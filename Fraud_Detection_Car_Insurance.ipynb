{
  "cells": [
    {
      "cell_type": "markdown",
      "metadata": {
        "id": "view-in-github",
        "colab_type": "text"
      },
      "source": [
        "<a href=\"https://colab.research.google.com/github/noircode/ds-dojo/blob/main/Fraud_Detection_Car_Insurance.ipynb\" target=\"_parent\"><img src=\"https://colab.research.google.com/assets/colab-badge.svg\" alt=\"Open In Colab\"/></a>"
      ]
    },
    {
      "cell_type": "markdown",
      "metadata": {
        "id": "jyniyok7b1Yh"
      },
      "source": [
        "# Fraud Detection"
      ]
    },
    {
      "cell_type": "markdown",
      "metadata": {
        "id": "jbMot94Rb36w"
      },
      "source": [
        "Vehicle insurance fraud involves conspiracy to make a false claim involving excessive vehicle damage or motorist injury following an accident. Some common examples include staged accidents where the fraudster deliberately \"sets\" for the accident to occur; the use of shadow passengers where people who were not even at the scene of the accident claim to have suffered serious injuries, and making false personal injury claims where personal injuries are exaggerated. For that we will try to create an ML model to detect cases of fraud when claiming insurance and which are not cases of fraud (no fraud)."
      ]
    },
    {
      "cell_type": "code",
      "execution_count": 2,
      "metadata": {
        "id": "_kivWK10ZMk9"
      },
      "outputs": [],
      "source": [
        "!pip install -q opendatasets"
      ]
    },
    {
      "cell_type": "code",
      "execution_count": 3,
      "metadata": {
        "id": "Cmq-ERcCZb69"
      },
      "outputs": [],
      "source": [
        "import opendatasets as od"
      ]
    },
    {
      "cell_type": "code",
      "execution_count": null,
      "metadata": {
        "id": "5X1SIrZMZeCm"
      },
      "outputs": [],
      "source": [
        "# fetch datasets\n",
        "od.download(\"https://www.kaggle.com/datasets/shivamb/vehicle-claim-fraud-detection\")"
      ]
    },
    {
      "cell_type": "code",
      "execution_count": 90,
      "metadata": {
        "id": "T0-ieNvdZe3z"
      },
      "outputs": [],
      "source": [
        "import pandas as pd\n",
        "import numpy as np\n",
        "import matplotlib.pyplot as plt\n",
        "import numpy as np\n",
        "import seaborn as sns\n",
        "import os\n",
        "import pickle\n",
        "import scipy.stats as stats\n",
        "\n",
        "from sklearn.model_selection import train_test_split\n",
        "from sklearn.linear_model import LogisticRegression\n",
        "from sklearn.tree import DecisionTreeClassifier\n",
        "from sklearn.ensemble import RandomForestClassifier\n",
        "from sklearn.neighbors import KNeighborsClassifier\n",
        "from sklearn.model_selection import GridSearchCV\n",
        "from sklearn.metrics import classification_report, confusion_matrix, accuracy_score\n",
        "from imblearn.over_sampling import SMOTE\n",
        "from sklearn.pipeline import Pipeline, make_pipeline\n",
        "from sklearn.compose import ColumnTransformer\n",
        "\n",
        "import warnings\n",
        "warnings.filterwarnings('ignore')\n"
      ]
    },
    {
      "cell_type": "code",
      "execution_count": 6,
      "metadata": {
        "id": "MTQEWn0EbcZd"
      },
      "outputs": [],
      "source": [
        "pd.set_option('display.max_columns', None) # look for all columns"
      ]
    },
    {
      "cell_type": "code",
      "execution_count": 7,
      "metadata": {
        "id": "V5BE0Va-bh13"
      },
      "outputs": [],
      "source": [
        "df = pd.read_csv(\"/content/vehicle-claim-fraud-detection/fraud_oracle.csv\")"
      ]
    },
    {
      "cell_type": "code",
      "execution_count": 8,
      "metadata": {
        "colab": {
          "base_uri": "https://localhost:8080/",
          "height": 357
        },
        "id": "tmAuamq1bkLQ",
        "outputId": "8a7af743-2d4a-446c-aada-81d53ab19a9f"
      },
      "outputs": [
        {
          "output_type": "execute_result",
          "data": {
            "text/plain": [
              "  Month  WeekOfMonth  DayOfWeek    Make AccidentArea DayOfWeekClaimed  \\\n",
              "0   Dec            5  Wednesday   Honda        Urban          Tuesday   \n",
              "1   Jan            3  Wednesday   Honda        Urban           Monday   \n",
              "2   Oct            5     Friday   Honda        Urban         Thursday   \n",
              "3   Jun            2   Saturday  Toyota        Rural           Friday   \n",
              "4   Jan            5     Monday   Honda        Urban          Tuesday   \n",
              "\n",
              "  MonthClaimed  WeekOfMonthClaimed     Sex MaritalStatus  Age          Fault  \\\n",
              "0          Jan                   1  Female        Single   21  Policy Holder   \n",
              "1          Jan                   4    Male        Single   34  Policy Holder   \n",
              "2          Nov                   2    Male       Married   47  Policy Holder   \n",
              "3          Jul                   1    Male       Married   65    Third Party   \n",
              "4          Feb                   2  Female        Single   27    Third Party   \n",
              "\n",
              "          PolicyType VehicleCategory     VehiclePrice  FraudFound_P  \\\n",
              "0  Sport - Liability           Sport  more than 69000             0   \n",
              "1  Sport - Collision           Sport  more than 69000             0   \n",
              "2  Sport - Collision           Sport  more than 69000             0   \n",
              "3  Sedan - Liability           Sport   20000 to 29000             0   \n",
              "4  Sport - Collision           Sport  more than 69000             0   \n",
              "\n",
              "   PolicyNumber  RepNumber  Deductible  DriverRating Days_Policy_Accident  \\\n",
              "0             1         12         300             1         more than 30   \n",
              "1             2         15         400             4         more than 30   \n",
              "2             3          7         400             3         more than 30   \n",
              "3             4          4         400             2         more than 30   \n",
              "4             5          3         400             1         more than 30   \n",
              "\n",
              "  Days_Policy_Claim PastNumberOfClaims AgeOfVehicle AgeOfPolicyHolder  \\\n",
              "0      more than 30               none      3 years          26 to 30   \n",
              "1      more than 30               none      6 years          31 to 35   \n",
              "2      more than 30                  1      7 years          41 to 50   \n",
              "3      more than 30                  1  more than 7          51 to 65   \n",
              "4      more than 30               none      5 years          31 to 35   \n",
              "\n",
              "  PoliceReportFiled WitnessPresent AgentType NumberOfSuppliments  \\\n",
              "0                No             No  External                none   \n",
              "1               Yes             No  External                none   \n",
              "2                No             No  External                none   \n",
              "3               Yes             No  External         more than 5   \n",
              "4                No             No  External                none   \n",
              "\n",
              "  AddressChange_Claim NumberOfCars  Year BasePolicy  \n",
              "0              1 year       3 to 4  1994  Liability  \n",
              "1           no change    1 vehicle  1994  Collision  \n",
              "2           no change    1 vehicle  1994  Collision  \n",
              "3           no change    1 vehicle  1994  Liability  \n",
              "4           no change    1 vehicle  1994  Collision  "
            ],
            "text/html": [
              "\n",
              "  <div id=\"df-a637e3aa-94ef-4288-b677-ed9c0b9dfcbb\">\n",
              "    <div class=\"colab-df-container\">\n",
              "      <div>\n",
              "<style scoped>\n",
              "    .dataframe tbody tr th:only-of-type {\n",
              "        vertical-align: middle;\n",
              "    }\n",
              "\n",
              "    .dataframe tbody tr th {\n",
              "        vertical-align: top;\n",
              "    }\n",
              "\n",
              "    .dataframe thead th {\n",
              "        text-align: right;\n",
              "    }\n",
              "</style>\n",
              "<table border=\"1\" class=\"dataframe\">\n",
              "  <thead>\n",
              "    <tr style=\"text-align: right;\">\n",
              "      <th></th>\n",
              "      <th>Month</th>\n",
              "      <th>WeekOfMonth</th>\n",
              "      <th>DayOfWeek</th>\n",
              "      <th>Make</th>\n",
              "      <th>AccidentArea</th>\n",
              "      <th>DayOfWeekClaimed</th>\n",
              "      <th>MonthClaimed</th>\n",
              "      <th>WeekOfMonthClaimed</th>\n",
              "      <th>Sex</th>\n",
              "      <th>MaritalStatus</th>\n",
              "      <th>Age</th>\n",
              "      <th>Fault</th>\n",
              "      <th>PolicyType</th>\n",
              "      <th>VehicleCategory</th>\n",
              "      <th>VehiclePrice</th>\n",
              "      <th>FraudFound_P</th>\n",
              "      <th>PolicyNumber</th>\n",
              "      <th>RepNumber</th>\n",
              "      <th>Deductible</th>\n",
              "      <th>DriverRating</th>\n",
              "      <th>Days_Policy_Accident</th>\n",
              "      <th>Days_Policy_Claim</th>\n",
              "      <th>PastNumberOfClaims</th>\n",
              "      <th>AgeOfVehicle</th>\n",
              "      <th>AgeOfPolicyHolder</th>\n",
              "      <th>PoliceReportFiled</th>\n",
              "      <th>WitnessPresent</th>\n",
              "      <th>AgentType</th>\n",
              "      <th>NumberOfSuppliments</th>\n",
              "      <th>AddressChange_Claim</th>\n",
              "      <th>NumberOfCars</th>\n",
              "      <th>Year</th>\n",
              "      <th>BasePolicy</th>\n",
              "    </tr>\n",
              "  </thead>\n",
              "  <tbody>\n",
              "    <tr>\n",
              "      <th>0</th>\n",
              "      <td>Dec</td>\n",
              "      <td>5</td>\n",
              "      <td>Wednesday</td>\n",
              "      <td>Honda</td>\n",
              "      <td>Urban</td>\n",
              "      <td>Tuesday</td>\n",
              "      <td>Jan</td>\n",
              "      <td>1</td>\n",
              "      <td>Female</td>\n",
              "      <td>Single</td>\n",
              "      <td>21</td>\n",
              "      <td>Policy Holder</td>\n",
              "      <td>Sport - Liability</td>\n",
              "      <td>Sport</td>\n",
              "      <td>more than 69000</td>\n",
              "      <td>0</td>\n",
              "      <td>1</td>\n",
              "      <td>12</td>\n",
              "      <td>300</td>\n",
              "      <td>1</td>\n",
              "      <td>more than 30</td>\n",
              "      <td>more than 30</td>\n",
              "      <td>none</td>\n",
              "      <td>3 years</td>\n",
              "      <td>26 to 30</td>\n",
              "      <td>No</td>\n",
              "      <td>No</td>\n",
              "      <td>External</td>\n",
              "      <td>none</td>\n",
              "      <td>1 year</td>\n",
              "      <td>3 to 4</td>\n",
              "      <td>1994</td>\n",
              "      <td>Liability</td>\n",
              "    </tr>\n",
              "    <tr>\n",
              "      <th>1</th>\n",
              "      <td>Jan</td>\n",
              "      <td>3</td>\n",
              "      <td>Wednesday</td>\n",
              "      <td>Honda</td>\n",
              "      <td>Urban</td>\n",
              "      <td>Monday</td>\n",
              "      <td>Jan</td>\n",
              "      <td>4</td>\n",
              "      <td>Male</td>\n",
              "      <td>Single</td>\n",
              "      <td>34</td>\n",
              "      <td>Policy Holder</td>\n",
              "      <td>Sport - Collision</td>\n",
              "      <td>Sport</td>\n",
              "      <td>more than 69000</td>\n",
              "      <td>0</td>\n",
              "      <td>2</td>\n",
              "      <td>15</td>\n",
              "      <td>400</td>\n",
              "      <td>4</td>\n",
              "      <td>more than 30</td>\n",
              "      <td>more than 30</td>\n",
              "      <td>none</td>\n",
              "      <td>6 years</td>\n",
              "      <td>31 to 35</td>\n",
              "      <td>Yes</td>\n",
              "      <td>No</td>\n",
              "      <td>External</td>\n",
              "      <td>none</td>\n",
              "      <td>no change</td>\n",
              "      <td>1 vehicle</td>\n",
              "      <td>1994</td>\n",
              "      <td>Collision</td>\n",
              "    </tr>\n",
              "    <tr>\n",
              "      <th>2</th>\n",
              "      <td>Oct</td>\n",
              "      <td>5</td>\n",
              "      <td>Friday</td>\n",
              "      <td>Honda</td>\n",
              "      <td>Urban</td>\n",
              "      <td>Thursday</td>\n",
              "      <td>Nov</td>\n",
              "      <td>2</td>\n",
              "      <td>Male</td>\n",
              "      <td>Married</td>\n",
              "      <td>47</td>\n",
              "      <td>Policy Holder</td>\n",
              "      <td>Sport - Collision</td>\n",
              "      <td>Sport</td>\n",
              "      <td>more than 69000</td>\n",
              "      <td>0</td>\n",
              "      <td>3</td>\n",
              "      <td>7</td>\n",
              "      <td>400</td>\n",
              "      <td>3</td>\n",
              "      <td>more than 30</td>\n",
              "      <td>more than 30</td>\n",
              "      <td>1</td>\n",
              "      <td>7 years</td>\n",
              "      <td>41 to 50</td>\n",
              "      <td>No</td>\n",
              "      <td>No</td>\n",
              "      <td>External</td>\n",
              "      <td>none</td>\n",
              "      <td>no change</td>\n",
              "      <td>1 vehicle</td>\n",
              "      <td>1994</td>\n",
              "      <td>Collision</td>\n",
              "    </tr>\n",
              "    <tr>\n",
              "      <th>3</th>\n",
              "      <td>Jun</td>\n",
              "      <td>2</td>\n",
              "      <td>Saturday</td>\n",
              "      <td>Toyota</td>\n",
              "      <td>Rural</td>\n",
              "      <td>Friday</td>\n",
              "      <td>Jul</td>\n",
              "      <td>1</td>\n",
              "      <td>Male</td>\n",
              "      <td>Married</td>\n",
              "      <td>65</td>\n",
              "      <td>Third Party</td>\n",
              "      <td>Sedan - Liability</td>\n",
              "      <td>Sport</td>\n",
              "      <td>20000 to 29000</td>\n",
              "      <td>0</td>\n",
              "      <td>4</td>\n",
              "      <td>4</td>\n",
              "      <td>400</td>\n",
              "      <td>2</td>\n",
              "      <td>more than 30</td>\n",
              "      <td>more than 30</td>\n",
              "      <td>1</td>\n",
              "      <td>more than 7</td>\n",
              "      <td>51 to 65</td>\n",
              "      <td>Yes</td>\n",
              "      <td>No</td>\n",
              "      <td>External</td>\n",
              "      <td>more than 5</td>\n",
              "      <td>no change</td>\n",
              "      <td>1 vehicle</td>\n",
              "      <td>1994</td>\n",
              "      <td>Liability</td>\n",
              "    </tr>\n",
              "    <tr>\n",
              "      <th>4</th>\n",
              "      <td>Jan</td>\n",
              "      <td>5</td>\n",
              "      <td>Monday</td>\n",
              "      <td>Honda</td>\n",
              "      <td>Urban</td>\n",
              "      <td>Tuesday</td>\n",
              "      <td>Feb</td>\n",
              "      <td>2</td>\n",
              "      <td>Female</td>\n",
              "      <td>Single</td>\n",
              "      <td>27</td>\n",
              "      <td>Third Party</td>\n",
              "      <td>Sport - Collision</td>\n",
              "      <td>Sport</td>\n",
              "      <td>more than 69000</td>\n",
              "      <td>0</td>\n",
              "      <td>5</td>\n",
              "      <td>3</td>\n",
              "      <td>400</td>\n",
              "      <td>1</td>\n",
              "      <td>more than 30</td>\n",
              "      <td>more than 30</td>\n",
              "      <td>none</td>\n",
              "      <td>5 years</td>\n",
              "      <td>31 to 35</td>\n",
              "      <td>No</td>\n",
              "      <td>No</td>\n",
              "      <td>External</td>\n",
              "      <td>none</td>\n",
              "      <td>no change</td>\n",
              "      <td>1 vehicle</td>\n",
              "      <td>1994</td>\n",
              "      <td>Collision</td>\n",
              "    </tr>\n",
              "  </tbody>\n",
              "</table>\n",
              "</div>\n",
              "      <button class=\"colab-df-convert\" onclick=\"convertToInteractive('df-a637e3aa-94ef-4288-b677-ed9c0b9dfcbb')\"\n",
              "              title=\"Convert this dataframe to an interactive table.\"\n",
              "              style=\"display:none;\">\n",
              "        \n",
              "  <svg xmlns=\"http://www.w3.org/2000/svg\" height=\"24px\"viewBox=\"0 0 24 24\"\n",
              "       width=\"24px\">\n",
              "    <path d=\"M0 0h24v24H0V0z\" fill=\"none\"/>\n",
              "    <path d=\"M18.56 5.44l.94 2.06.94-2.06 2.06-.94-2.06-.94-.94-2.06-.94 2.06-2.06.94zm-11 1L8.5 8.5l.94-2.06 2.06-.94-2.06-.94L8.5 2.5l-.94 2.06-2.06.94zm10 10l.94 2.06.94-2.06 2.06-.94-2.06-.94-.94-2.06-.94 2.06-2.06.94z\"/><path d=\"M17.41 7.96l-1.37-1.37c-.4-.4-.92-.59-1.43-.59-.52 0-1.04.2-1.43.59L10.3 9.45l-7.72 7.72c-.78.78-.78 2.05 0 2.83L4 21.41c.39.39.9.59 1.41.59.51 0 1.02-.2 1.41-.59l7.78-7.78 2.81-2.81c.8-.78.8-2.07 0-2.86zM5.41 20L4 18.59l7.72-7.72 1.47 1.35L5.41 20z\"/>\n",
              "  </svg>\n",
              "      </button>\n",
              "      \n",
              "  <style>\n",
              "    .colab-df-container {\n",
              "      display:flex;\n",
              "      flex-wrap:wrap;\n",
              "      gap: 12px;\n",
              "    }\n",
              "\n",
              "    .colab-df-convert {\n",
              "      background-color: #E8F0FE;\n",
              "      border: none;\n",
              "      border-radius: 50%;\n",
              "      cursor: pointer;\n",
              "      display: none;\n",
              "      fill: #1967D2;\n",
              "      height: 32px;\n",
              "      padding: 0 0 0 0;\n",
              "      width: 32px;\n",
              "    }\n",
              "\n",
              "    .colab-df-convert:hover {\n",
              "      background-color: #E2EBFA;\n",
              "      box-shadow: 0px 1px 2px rgba(60, 64, 67, 0.3), 0px 1px 3px 1px rgba(60, 64, 67, 0.15);\n",
              "      fill: #174EA6;\n",
              "    }\n",
              "\n",
              "    [theme=dark] .colab-df-convert {\n",
              "      background-color: #3B4455;\n",
              "      fill: #D2E3FC;\n",
              "    }\n",
              "\n",
              "    [theme=dark] .colab-df-convert:hover {\n",
              "      background-color: #434B5C;\n",
              "      box-shadow: 0px 1px 3px 1px rgba(0, 0, 0, 0.15);\n",
              "      filter: drop-shadow(0px 1px 2px rgba(0, 0, 0, 0.3));\n",
              "      fill: #FFFFFF;\n",
              "    }\n",
              "  </style>\n",
              "\n",
              "      <script>\n",
              "        const buttonEl =\n",
              "          document.querySelector('#df-a637e3aa-94ef-4288-b677-ed9c0b9dfcbb button.colab-df-convert');\n",
              "        buttonEl.style.display =\n",
              "          google.colab.kernel.accessAllowed ? 'block' : 'none';\n",
              "\n",
              "        async function convertToInteractive(key) {\n",
              "          const element = document.querySelector('#df-a637e3aa-94ef-4288-b677-ed9c0b9dfcbb');\n",
              "          const dataTable =\n",
              "            await google.colab.kernel.invokeFunction('convertToInteractive',\n",
              "                                                     [key], {});\n",
              "          if (!dataTable) return;\n",
              "\n",
              "          const docLinkHtml = 'Like what you see? Visit the ' +\n",
              "            '<a target=\"_blank\" href=https://colab.research.google.com/notebooks/data_table.ipynb>data table notebook</a>'\n",
              "            + ' to learn more about interactive tables.';\n",
              "          element.innerHTML = '';\n",
              "          dataTable['output_type'] = 'display_data';\n",
              "          await google.colab.output.renderOutput(dataTable, element);\n",
              "          const docLink = document.createElement('div');\n",
              "          docLink.innerHTML = docLinkHtml;\n",
              "          element.appendChild(docLink);\n",
              "        }\n",
              "      </script>\n",
              "    </div>\n",
              "  </div>\n",
              "  "
            ]
          },
          "metadata": {},
          "execution_count": 8
        }
      ],
      "source": [
        "df.head()"
      ]
    },
    {
      "cell_type": "code",
      "execution_count": 9,
      "metadata": {
        "colab": {
          "base_uri": "https://localhost:8080/"
        },
        "id": "pZj0EebLboez",
        "outputId": "367a9ac9-7233-4862-d3d6-fe6af840e87b"
      },
      "outputs": [
        {
          "output_type": "stream",
          "name": "stdout",
          "text": [
            "<class 'pandas.core.frame.DataFrame'>\n",
            "RangeIndex: 15420 entries, 0 to 15419\n",
            "Data columns (total 33 columns):\n",
            " #   Column                Non-Null Count  Dtype \n",
            "---  ------                --------------  ----- \n",
            " 0   Month                 15420 non-null  object\n",
            " 1   WeekOfMonth           15420 non-null  int64 \n",
            " 2   DayOfWeek             15420 non-null  object\n",
            " 3   Make                  15420 non-null  object\n",
            " 4   AccidentArea          15420 non-null  object\n",
            " 5   DayOfWeekClaimed      15420 non-null  object\n",
            " 6   MonthClaimed          15420 non-null  object\n",
            " 7   WeekOfMonthClaimed    15420 non-null  int64 \n",
            " 8   Sex                   15420 non-null  object\n",
            " 9   MaritalStatus         15420 non-null  object\n",
            " 10  Age                   15420 non-null  int64 \n",
            " 11  Fault                 15420 non-null  object\n",
            " 12  PolicyType            15420 non-null  object\n",
            " 13  VehicleCategory       15420 non-null  object\n",
            " 14  VehiclePrice          15420 non-null  object\n",
            " 15  FraudFound_P          15420 non-null  int64 \n",
            " 16  PolicyNumber          15420 non-null  int64 \n",
            " 17  RepNumber             15420 non-null  int64 \n",
            " 18  Deductible            15420 non-null  int64 \n",
            " 19  DriverRating          15420 non-null  int64 \n",
            " 20  Days_Policy_Accident  15420 non-null  object\n",
            " 21  Days_Policy_Claim     15420 non-null  object\n",
            " 22  PastNumberOfClaims    15420 non-null  object\n",
            " 23  AgeOfVehicle          15420 non-null  object\n",
            " 24  AgeOfPolicyHolder     15420 non-null  object\n",
            " 25  PoliceReportFiled     15420 non-null  object\n",
            " 26  WitnessPresent        15420 non-null  object\n",
            " 27  AgentType             15420 non-null  object\n",
            " 28  NumberOfSuppliments   15420 non-null  object\n",
            " 29  AddressChange_Claim   15420 non-null  object\n",
            " 30  NumberOfCars          15420 non-null  object\n",
            " 31  Year                  15420 non-null  int64 \n",
            " 32  BasePolicy            15420 non-null  object\n",
            "dtypes: int64(9), object(24)\n",
            "memory usage: 3.9+ MB\n"
          ]
        }
      ],
      "source": [
        "df.info()"
      ]
    },
    {
      "cell_type": "code",
      "execution_count": 10,
      "metadata": {
        "colab": {
          "base_uri": "https://localhost:8080/"
        },
        "id": "Elkw4mBvbryP",
        "outputId": "1141a962-eea2-459d-cf08-eed8360d5854"
      },
      "outputs": [
        {
          "output_type": "execute_result",
          "data": {
            "text/plain": [
              "0"
            ]
          },
          "metadata": {},
          "execution_count": 10
        }
      ],
      "source": [
        "df.isna().sum().sum()"
      ]
    },
    {
      "cell_type": "code",
      "execution_count": 11,
      "metadata": {
        "colab": {
          "base_uri": "https://localhost:8080/",
          "height": 300
        },
        "id": "jg_Tgohkbv3b",
        "outputId": "a2ae31a8-03f1-4373-b0f0-136f20aa4209"
      },
      "outputs": [
        {
          "output_type": "execute_result",
          "data": {
            "text/plain": [
              "        WeekOfMonth  WeekOfMonthClaimed           Age  FraudFound_P  \\\n",
              "count  15420.000000        15420.000000  15420.000000  15420.000000   \n",
              "mean       2.788586            2.693969     39.855707      0.059857   \n",
              "std        1.287585            1.259115     13.492377      0.237230   \n",
              "min        1.000000            1.000000      0.000000      0.000000   \n",
              "25%        2.000000            2.000000     31.000000      0.000000   \n",
              "50%        3.000000            3.000000     38.000000      0.000000   \n",
              "75%        4.000000            4.000000     48.000000      0.000000   \n",
              "max        5.000000            5.000000     80.000000      1.000000   \n",
              "\n",
              "       PolicyNumber     RepNumber    Deductible  DriverRating          Year  \n",
              "count  15420.000000  15420.000000  15420.000000  15420.000000  15420.000000  \n",
              "mean    7710.500000      8.483268    407.704280      2.487808   1994.866472  \n",
              "std     4451.514911      4.599948     43.950998      1.119453      0.803313  \n",
              "min        1.000000      1.000000    300.000000      1.000000   1994.000000  \n",
              "25%     3855.750000      5.000000    400.000000      1.000000   1994.000000  \n",
              "50%     7710.500000      8.000000    400.000000      2.000000   1995.000000  \n",
              "75%    11565.250000     12.000000    400.000000      3.000000   1996.000000  \n",
              "max    15420.000000     16.000000    700.000000      4.000000   1996.000000  "
            ],
            "text/html": [
              "\n",
              "  <div id=\"df-a32dcf8a-937f-4f6f-8684-941491a3bd54\">\n",
              "    <div class=\"colab-df-container\">\n",
              "      <div>\n",
              "<style scoped>\n",
              "    .dataframe tbody tr th:only-of-type {\n",
              "        vertical-align: middle;\n",
              "    }\n",
              "\n",
              "    .dataframe tbody tr th {\n",
              "        vertical-align: top;\n",
              "    }\n",
              "\n",
              "    .dataframe thead th {\n",
              "        text-align: right;\n",
              "    }\n",
              "</style>\n",
              "<table border=\"1\" class=\"dataframe\">\n",
              "  <thead>\n",
              "    <tr style=\"text-align: right;\">\n",
              "      <th></th>\n",
              "      <th>WeekOfMonth</th>\n",
              "      <th>WeekOfMonthClaimed</th>\n",
              "      <th>Age</th>\n",
              "      <th>FraudFound_P</th>\n",
              "      <th>PolicyNumber</th>\n",
              "      <th>RepNumber</th>\n",
              "      <th>Deductible</th>\n",
              "      <th>DriverRating</th>\n",
              "      <th>Year</th>\n",
              "    </tr>\n",
              "  </thead>\n",
              "  <tbody>\n",
              "    <tr>\n",
              "      <th>count</th>\n",
              "      <td>15420.000000</td>\n",
              "      <td>15420.000000</td>\n",
              "      <td>15420.000000</td>\n",
              "      <td>15420.000000</td>\n",
              "      <td>15420.000000</td>\n",
              "      <td>15420.000000</td>\n",
              "      <td>15420.000000</td>\n",
              "      <td>15420.000000</td>\n",
              "      <td>15420.000000</td>\n",
              "    </tr>\n",
              "    <tr>\n",
              "      <th>mean</th>\n",
              "      <td>2.788586</td>\n",
              "      <td>2.693969</td>\n",
              "      <td>39.855707</td>\n",
              "      <td>0.059857</td>\n",
              "      <td>7710.500000</td>\n",
              "      <td>8.483268</td>\n",
              "      <td>407.704280</td>\n",
              "      <td>2.487808</td>\n",
              "      <td>1994.866472</td>\n",
              "    </tr>\n",
              "    <tr>\n",
              "      <th>std</th>\n",
              "      <td>1.287585</td>\n",
              "      <td>1.259115</td>\n",
              "      <td>13.492377</td>\n",
              "      <td>0.237230</td>\n",
              "      <td>4451.514911</td>\n",
              "      <td>4.599948</td>\n",
              "      <td>43.950998</td>\n",
              "      <td>1.119453</td>\n",
              "      <td>0.803313</td>\n",
              "    </tr>\n",
              "    <tr>\n",
              "      <th>min</th>\n",
              "      <td>1.000000</td>\n",
              "      <td>1.000000</td>\n",
              "      <td>0.000000</td>\n",
              "      <td>0.000000</td>\n",
              "      <td>1.000000</td>\n",
              "      <td>1.000000</td>\n",
              "      <td>300.000000</td>\n",
              "      <td>1.000000</td>\n",
              "      <td>1994.000000</td>\n",
              "    </tr>\n",
              "    <tr>\n",
              "      <th>25%</th>\n",
              "      <td>2.000000</td>\n",
              "      <td>2.000000</td>\n",
              "      <td>31.000000</td>\n",
              "      <td>0.000000</td>\n",
              "      <td>3855.750000</td>\n",
              "      <td>5.000000</td>\n",
              "      <td>400.000000</td>\n",
              "      <td>1.000000</td>\n",
              "      <td>1994.000000</td>\n",
              "    </tr>\n",
              "    <tr>\n",
              "      <th>50%</th>\n",
              "      <td>3.000000</td>\n",
              "      <td>3.000000</td>\n",
              "      <td>38.000000</td>\n",
              "      <td>0.000000</td>\n",
              "      <td>7710.500000</td>\n",
              "      <td>8.000000</td>\n",
              "      <td>400.000000</td>\n",
              "      <td>2.000000</td>\n",
              "      <td>1995.000000</td>\n",
              "    </tr>\n",
              "    <tr>\n",
              "      <th>75%</th>\n",
              "      <td>4.000000</td>\n",
              "      <td>4.000000</td>\n",
              "      <td>48.000000</td>\n",
              "      <td>0.000000</td>\n",
              "      <td>11565.250000</td>\n",
              "      <td>12.000000</td>\n",
              "      <td>400.000000</td>\n",
              "      <td>3.000000</td>\n",
              "      <td>1996.000000</td>\n",
              "    </tr>\n",
              "    <tr>\n",
              "      <th>max</th>\n",
              "      <td>5.000000</td>\n",
              "      <td>5.000000</td>\n",
              "      <td>80.000000</td>\n",
              "      <td>1.000000</td>\n",
              "      <td>15420.000000</td>\n",
              "      <td>16.000000</td>\n",
              "      <td>700.000000</td>\n",
              "      <td>4.000000</td>\n",
              "      <td>1996.000000</td>\n",
              "    </tr>\n",
              "  </tbody>\n",
              "</table>\n",
              "</div>\n",
              "      <button class=\"colab-df-convert\" onclick=\"convertToInteractive('df-a32dcf8a-937f-4f6f-8684-941491a3bd54')\"\n",
              "              title=\"Convert this dataframe to an interactive table.\"\n",
              "              style=\"display:none;\">\n",
              "        \n",
              "  <svg xmlns=\"http://www.w3.org/2000/svg\" height=\"24px\"viewBox=\"0 0 24 24\"\n",
              "       width=\"24px\">\n",
              "    <path d=\"M0 0h24v24H0V0z\" fill=\"none\"/>\n",
              "    <path d=\"M18.56 5.44l.94 2.06.94-2.06 2.06-.94-2.06-.94-.94-2.06-.94 2.06-2.06.94zm-11 1L8.5 8.5l.94-2.06 2.06-.94-2.06-.94L8.5 2.5l-.94 2.06-2.06.94zm10 10l.94 2.06.94-2.06 2.06-.94-2.06-.94-.94-2.06-.94 2.06-2.06.94z\"/><path d=\"M17.41 7.96l-1.37-1.37c-.4-.4-.92-.59-1.43-.59-.52 0-1.04.2-1.43.59L10.3 9.45l-7.72 7.72c-.78.78-.78 2.05 0 2.83L4 21.41c.39.39.9.59 1.41.59.51 0 1.02-.2 1.41-.59l7.78-7.78 2.81-2.81c.8-.78.8-2.07 0-2.86zM5.41 20L4 18.59l7.72-7.72 1.47 1.35L5.41 20z\"/>\n",
              "  </svg>\n",
              "      </button>\n",
              "      \n",
              "  <style>\n",
              "    .colab-df-container {\n",
              "      display:flex;\n",
              "      flex-wrap:wrap;\n",
              "      gap: 12px;\n",
              "    }\n",
              "\n",
              "    .colab-df-convert {\n",
              "      background-color: #E8F0FE;\n",
              "      border: none;\n",
              "      border-radius: 50%;\n",
              "      cursor: pointer;\n",
              "      display: none;\n",
              "      fill: #1967D2;\n",
              "      height: 32px;\n",
              "      padding: 0 0 0 0;\n",
              "      width: 32px;\n",
              "    }\n",
              "\n",
              "    .colab-df-convert:hover {\n",
              "      background-color: #E2EBFA;\n",
              "      box-shadow: 0px 1px 2px rgba(60, 64, 67, 0.3), 0px 1px 3px 1px rgba(60, 64, 67, 0.15);\n",
              "      fill: #174EA6;\n",
              "    }\n",
              "\n",
              "    [theme=dark] .colab-df-convert {\n",
              "      background-color: #3B4455;\n",
              "      fill: #D2E3FC;\n",
              "    }\n",
              "\n",
              "    [theme=dark] .colab-df-convert:hover {\n",
              "      background-color: #434B5C;\n",
              "      box-shadow: 0px 1px 3px 1px rgba(0, 0, 0, 0.15);\n",
              "      filter: drop-shadow(0px 1px 2px rgba(0, 0, 0, 0.3));\n",
              "      fill: #FFFFFF;\n",
              "    }\n",
              "  </style>\n",
              "\n",
              "      <script>\n",
              "        const buttonEl =\n",
              "          document.querySelector('#df-a32dcf8a-937f-4f6f-8684-941491a3bd54 button.colab-df-convert');\n",
              "        buttonEl.style.display =\n",
              "          google.colab.kernel.accessAllowed ? 'block' : 'none';\n",
              "\n",
              "        async function convertToInteractive(key) {\n",
              "          const element = document.querySelector('#df-a32dcf8a-937f-4f6f-8684-941491a3bd54');\n",
              "          const dataTable =\n",
              "            await google.colab.kernel.invokeFunction('convertToInteractive',\n",
              "                                                     [key], {});\n",
              "          if (!dataTable) return;\n",
              "\n",
              "          const docLinkHtml = 'Like what you see? Visit the ' +\n",
              "            '<a target=\"_blank\" href=https://colab.research.google.com/notebooks/data_table.ipynb>data table notebook</a>'\n",
              "            + ' to learn more about interactive tables.';\n",
              "          element.innerHTML = '';\n",
              "          dataTable['output_type'] = 'display_data';\n",
              "          await google.colab.output.renderOutput(dataTable, element);\n",
              "          const docLink = document.createElement('div');\n",
              "          docLink.innerHTML = docLinkHtml;\n",
              "          element.appendChild(docLink);\n",
              "        }\n",
              "      </script>\n",
              "    </div>\n",
              "  </div>\n",
              "  "
            ]
          },
          "metadata": {},
          "execution_count": 11
        }
      ],
      "source": [
        "df.describe()"
      ]
    },
    {
      "cell_type": "markdown",
      "metadata": {
        "id": "GTowEF6Fbw1l"
      },
      "source": [
        "# Data Cleaning"
      ]
    },
    {
      "cell_type": "markdown",
      "metadata": {
        "id": "BARHWK_XbyiC"
      },
      "source": [
        "Based on `describe()`, there are anomaly on `Age` Columns. Logically there are no such things as 0 age, so we can assume 0 value as a missing value. In order to do that, we are going to change zero values into NaN values."
      ]
    },
    {
      "cell_type": "code",
      "execution_count": 12,
      "metadata": {
        "id": "SvpICbbOoA9G"
      },
      "outputs": [],
      "source": [
        "df['Age'].replace(0, np.nan, inplace=True)"
      ]
    },
    {
      "cell_type": "markdown",
      "metadata": {
        "id": "K8iBNAeLoLYq"
      },
      "source": [
        "# EDA"
      ]
    },
    {
      "cell_type": "code",
      "execution_count": 13,
      "metadata": {
        "id": "9CSpXTk4ph8c"
      },
      "outputs": [],
      "source": [
        "df_eda = df.copy()"
      ]
    },
    {
      "cell_type": "code",
      "execution_count": 14,
      "metadata": {
        "colab": {
          "base_uri": "https://localhost:8080/"
        },
        "id": "kkw_8Wx7V9zZ",
        "outputId": "9ed7a160-37d5-4678-da90-7267182a6468"
      },
      "outputs": [
        {
          "output_type": "stream",
          "name": "stdout",
          "text": [
            "Numeric Columns: Index(['WeekOfMonth', 'WeekOfMonthClaimed', 'Age', 'FraudFound_P',\n",
            "       'PolicyNumber', 'RepNumber', 'Deductible', 'DriverRating', 'Year'],\n",
            "      dtype='object')\n",
            "\n",
            "Category Columns: Index(['Month', 'DayOfWeek', 'Make', 'AccidentArea', 'DayOfWeekClaimed',\n",
            "       'MonthClaimed', 'Sex', 'MaritalStatus', 'Fault', 'PolicyType',\n",
            "       'VehicleCategory', 'VehiclePrice', 'Days_Policy_Accident',\n",
            "       'Days_Policy_Claim', 'PastNumberOfClaims', 'AgeOfVehicle',\n",
            "       'AgeOfPolicyHolder', 'PoliceReportFiled', 'WitnessPresent', 'AgentType',\n",
            "       'NumberOfSuppliments', 'AddressChange_Claim', 'NumberOfCars',\n",
            "       'BasePolicy'],\n",
            "      dtype='object')\n"
          ]
        }
      ],
      "source": [
        "print(f\"Numeric Columns: {df.select_dtypes(include=np.number).columns}\")\n",
        "print(f\"\\nCategory Columns: {df.select_dtypes(include='object').columns}\")"
      ]
    },
    {
      "cell_type": "code",
      "execution_count": 15,
      "metadata": {
        "colab": {
          "base_uri": "https://localhost:8080/"
        },
        "id": "ODU01VnUWZ4t",
        "outputId": "a465304e-1b40-4512-cd99-23ab82384b90"
      },
      "outputs": [
        {
          "output_type": "execute_result",
          "data": {
            "text/plain": [
              "0    14497\n",
              "1      923\n",
              "Name: FraudFound_P, dtype: int64"
            ]
          },
          "metadata": {},
          "execution_count": 15
        }
      ],
      "source": [
        "df_eda['FraudFound_P'].value_counts()"
      ]
    },
    {
      "cell_type": "code",
      "execution_count": 16,
      "metadata": {
        "id": "LAmxrnQDWOJv"
      },
      "outputs": [],
      "source": [
        "# replace 0 to \"no fraud\" and 1 to \"fraud\"\n",
        "# for eda porposes\n",
        "df_eda['FraudFound_P'].replace({0: 'no fraud', 1: 'fraud'}, inplace=True)"
      ]
    },
    {
      "cell_type": "code",
      "execution_count": 17,
      "metadata": {
        "colab": {
          "base_uri": "https://localhost:8080/",
          "height": 373
        },
        "id": "KOFhATTTW0b7",
        "outputId": "7716fb72-08fa-45c1-cfd1-15903ffcfa63"
      },
      "outputs": [
        {
          "output_type": "display_data",
          "data": {
            "text/plain": [
              "<Figure size 360x432 with 1 Axes>"
            ],
            "image/png": "[encoded data removed]"
          },
          "metadata": {}
        }
      ],
      "source": [
        "perc_tot_term_dep = df_eda['FraudFound_P'].value_counts(normalize=True)*100\n",
        "\n",
        "perc_tot_term_dep.plot(kind='pie',\n",
        "                       figsize=(5,6),\n",
        "                       autopct='%1.1f%%',\n",
        "                       startangle=45,\n",
        "                       shadow=False)\n",
        "\n",
        "plt.title('Percentage of fraud and no fraud')\n",
        "plt.axis('equal')\n",
        "\n",
        "plt.show()"
      ]
    },
    {
      "cell_type": "markdown",
      "metadata": {
        "id": "nFeqr2_BXOgF"
      },
      "source": [
        "We can tell that our target feature is imbalanced. There's only 6% of fraud and that's will effect our model later."
      ]
    },
    {
      "cell_type": "code",
      "execution_count": 18,
      "metadata": {
        "id": "aFYEkvcgX-dJ"
      },
      "outputs": [],
      "source": [
        "df_eda_fraud = df_eda[df_eda['FraudFound_P'] == 'fraud']"
      ]
    },
    {
      "cell_type": "code",
      "execution_count": 19,
      "metadata": {
        "colab": {
          "base_uri": "https://localhost:8080/",
          "height": 405
        },
        "id": "opgaSVYTYFAA",
        "outputId": "e9f46581-5377-4d10-99b1-12ee8ca67b82"
      },
      "outputs": [
        {
          "output_type": "execute_result",
          "data": {
            "text/plain": [
              "<matplotlib.axes._subplots.AxesSubplot at 0x7fd969fc8cd0>"
            ]
          },
          "metadata": {},
          "execution_count": 19
        },
        {
          "output_type": "display_data",
          "data": {
            "text/plain": [
              "<Figure size 1224x432 with 1 Axes>"
            ],
            "image/png": "[encoded data removed]"
          },
          "metadata": {
            "needs_background": "light"
          }
        }
      ],
      "source": [
        "plt.figure(figsize=(17, 6))\n",
        "sns.countplot('Year', data=df_eda_fraud)"
      ]
    },
    {
      "cell_type": "code",
      "execution_count": 20,
      "metadata": {
        "colab": {
          "base_uri": "https://localhost:8080/"
        },
        "id": "rW7WekDVYQXP",
        "outputId": "70425c50-762e-4051-c666-bbd18a592166"
      },
      "outputs": [
        {
          "output_type": "execute_result",
          "data": {
            "text/plain": [
              "Year  FraudFound_P\n",
              "1994  fraud           409\n",
              "1995  fraud           301\n",
              "1996  fraud           213\n",
              "Name: FraudFound_P, dtype: int64"
            ]
          },
          "metadata": {},
          "execution_count": 20
        }
      ],
      "source": [
        "df_eda_fraud.groupby(\"Year\")[\"FraudFound_P\"].value_counts()"
      ]
    },
    {
      "cell_type": "markdown",
      "metadata": {
        "id": "2yqD3SSRYYWq"
      },
      "source": [
        "Fraud cases decreased within 3 years (1994 - 1996)."
      ]
    },
    {
      "cell_type": "code",
      "execution_count": 21,
      "metadata": {
        "colab": {
          "base_uri": "https://localhost:8080/",
          "height": 440
        },
        "id": "gkFM6qdHYbet",
        "outputId": "30833b1e-84c1-4931-9caf-f224e4c61896"
      },
      "outputs": [
        {
          "output_type": "stream",
          "name": "stdout",
          "text": [
            "External    919\n",
            "Internal      4\n",
            "Name: AgentType, dtype: int64\n"
          ]
        },
        {
          "output_type": "display_data",
          "data": {
            "text/plain": [
              "<Figure size 1224x432 with 1 Axes>"
            ],
            "image/png": "[encoded data removed]"
          },
          "metadata": {
            "needs_background": "light"
          }
        }
      ],
      "source": [
        "plt.figure(figsize=(17, 6))\n",
        "sns.countplot(x=\"AgentType\", data= df_eda_fraud)\n",
        "print(df_eda_fraud['AgentType'].value_counts())"
      ]
    },
    {
      "cell_type": "markdown",
      "metadata": {
        "id": "10uEsgbBZjtj"
      },
      "source": [
        "Fraud is mostly done by clients who use agents from external companies. This happen because external agents is not bound to any companies."
      ]
    },
    {
      "cell_type": "code",
      "execution_count": 22,
      "metadata": {
        "colab": {
          "base_uri": "https://localhost:8080/",
          "height": 421
        },
        "id": "ZJ5x7sP5adqT",
        "outputId": "053a2017-9e44-44fa-d702-da0cc55e5840"
      },
      "outputs": [
        {
          "output_type": "execute_result",
          "data": {
            "text/plain": [
              "Text(0.5, 1.0, 'Vehicle Price on Fraud Case')"
            ]
          },
          "metadata": {},
          "execution_count": 22
        },
        {
          "output_type": "display_data",
          "data": {
            "text/plain": [
              "<Figure size 432x432 with 1 Axes>"
            ],
            "image/png": "[encoded data removed]"
          },
          "metadata": {
            "needs_background": "light"
          }
        }
      ],
      "source": [
        "range_price = df_eda_fraud.groupby(\"VehiclePrice\")[\"FraudFound_P\"].value_counts()\n",
        "range_price.plot(kind='barh', figsize=(6,6), color='black')\n",
        "plt.xlabel('Total Fraud')\n",
        "plt.ylabel('Range Price')\n",
        "plt.title('Vehicle Price on Fraud Case')"
      ]
    },
    {
      "cell_type": "markdown",
      "metadata": {
        "id": "nubQqZ9vcK2b"
      },
      "source": [
        "Fraud is mostly happend on vehicle that have price range between 20000-29000 with more than 400 cases"
      ]
    },
    {
      "cell_type": "markdown",
      "metadata": {
        "id": "x_VV4h6Wcw4H"
      },
      "source": [
        "# Data Preprocessing"
      ]
    },
    {
      "cell_type": "markdown",
      "source": [
        "## Get Data Inference"
      ],
      "metadata": {
        "id": "59dlntN_0ol6"
      }
    },
    {
      "cell_type": "code",
      "source": [
        "df_inf = df.sample(30, random_state=42)\n",
        "df_train_test = df.drop(df_inf.index)"
      ],
      "metadata": {
        "id": "dmXsshDq0sR1"
      },
      "execution_count": 23,
      "outputs": []
    },
    {
      "cell_type": "code",
      "source": [
        "df_inf.reset_index(drop=True, inplace=True)\n",
        "df_train_test.reset_index(drop=True, inplace=True)"
      ],
      "metadata": {
        "id": "dKna4ZhC0xGH"
      },
      "execution_count": 24,
      "outputs": []
    },
    {
      "cell_type": "markdown",
      "source": [
        "## Split the Data"
      ],
      "metadata": {
        "id": "lL2SXVqQdeyR"
      }
    },
    {
      "cell_type": "code",
      "source": [
        "X = df_train_test.drop(['FraudFound_P'], axis=1)\n",
        "y = df_train_test['FraudFound_P']"
      ],
      "metadata": {
        "id": "5feGxWXSdf5O"
      },
      "execution_count": 25,
      "outputs": []
    },
    {
      "cell_type": "code",
      "source": [
        "X_train, X_test, y_train, y_test = train_test_split(X, y, test_size=0.2, random_state=42, stratify=y)\n",
        "\n",
        "print(X_train.shape)\n",
        "print(X_test.shape)"
      ],
      "metadata": {
        "colab": {
          "base_uri": "https://localhost:8080/"
        },
        "id": "30pNz6I-doJE",
        "outputId": "7a9a8f4e-083c-44fa-dd34-3610edec3056"
      },
      "execution_count": 26,
      "outputs": [
        {
          "output_type": "stream",
          "name": "stdout",
          "text": [
            "(12312, 32)\n",
            "(3078, 32)\n"
          ]
        }
      ]
    },
    {
      "cell_type": "markdown",
      "source": [
        "## Outliers Handling"
      ],
      "metadata": {
        "id": "DE0lgyZhdwTV"
      }
    },
    {
      "cell_type": "code",
      "source": [
        "X_train_distr = pd.DataFrame({'columns':X_train.describe().columns, 'skew': X_train.skew(axis=0)})\n",
        "X_train_distr.reset_index(drop=True, inplace=True)\n",
        "X_train_distr['distribution'] = np.where((X_train_distr['skew'] < 0.5) & (X_train_distr['skew'] > -0.5), \"Normal\", \"Skew\")\n",
        "X_train_distr"
      ],
      "metadata": {
        "colab": {
          "base_uri": "https://localhost:8080/",
          "height": 300
        },
        "id": "z3WI6FDCdz6D",
        "outputId": "77a79ca8-9a45-4892-8172-5ad87f287e79"
      },
      "execution_count": 27,
      "outputs": [
        {
          "output_type": "execute_result",
          "data": {
            "text/plain": [
              "              columns      skew distribution\n",
              "0         WeekOfMonth  0.113659       Normal\n",
              "1  WeekOfMonthClaimed  0.149548       Normal\n",
              "2                 Age  0.715352         Skew\n",
              "3        PolicyNumber  0.006882       Normal\n",
              "4           RepNumber  0.011597       Normal\n",
              "5          Deductible  6.020236         Skew\n",
              "6        DriverRating  0.007453       Normal\n",
              "7                Year  0.255512       Normal"
            ],
            "text/html": [
              "\n",
              "  <div id=\"df-9c54dc58-7435-4b00-8d21-3ab6db8ae4f0\">\n",
              "    <div class=\"colab-df-container\">\n",
              "      <div>\n",
              "<style scoped>\n",
              "    .dataframe tbody tr th:only-of-type {\n",
              "        vertical-align: middle;\n",
              "    }\n",
              "\n",
              "    .dataframe tbody tr th {\n",
              "        vertical-align: top;\n",
              "    }\n",
              "\n",
              "    .dataframe thead th {\n",
              "        text-align: right;\n",
              "    }\n",
              "</style>\n",
              "<table border=\"1\" class=\"dataframe\">\n",
              "  <thead>\n",
              "    <tr style=\"text-align: right;\">\n",
              "      <th></th>\n",
              "      <th>columns</th>\n",
              "      <th>skew</th>\n",
              "      <th>distribution</th>\n",
              "    </tr>\n",
              "  </thead>\n",
              "  <tbody>\n",
              "    <tr>\n",
              "      <th>0</th>\n",
              "      <td>WeekOfMonth</td>\n",
              "      <td>0.113659</td>\n",
              "      <td>Normal</td>\n",
              "    </tr>\n",
              "    <tr>\n",
              "      <th>1</th>\n",
              "      <td>WeekOfMonthClaimed</td>\n",
              "      <td>0.149548</td>\n",
              "      <td>Normal</td>\n",
              "    </tr>\n",
              "    <tr>\n",
              "      <th>2</th>\n",
              "      <td>Age</td>\n",
              "      <td>0.715352</td>\n",
              "      <td>Skew</td>\n",
              "    </tr>\n",
              "    <tr>\n",
              "      <th>3</th>\n",
              "      <td>PolicyNumber</td>\n",
              "      <td>0.006882</td>\n",
              "      <td>Normal</td>\n",
              "    </tr>\n",
              "    <tr>\n",
              "      <th>4</th>\n",
              "      <td>RepNumber</td>\n",
              "      <td>0.011597</td>\n",
              "      <td>Normal</td>\n",
              "    </tr>\n",
              "    <tr>\n",
              "      <th>5</th>\n",
              "      <td>Deductible</td>\n",
              "      <td>6.020236</td>\n",
              "      <td>Skew</td>\n",
              "    </tr>\n",
              "    <tr>\n",
              "      <th>6</th>\n",
              "      <td>DriverRating</td>\n",
              "      <td>0.007453</td>\n",
              "      <td>Normal</td>\n",
              "    </tr>\n",
              "    <tr>\n",
              "      <th>7</th>\n",
              "      <td>Year</td>\n",
              "      <td>0.255512</td>\n",
              "      <td>Normal</td>\n",
              "    </tr>\n",
              "  </tbody>\n",
              "</table>\n",
              "</div>\n",
              "      <button class=\"colab-df-convert\" onclick=\"convertToInteractive('df-9c54dc58-7435-4b00-8d21-3ab6db8ae4f0')\"\n",
              "              title=\"Convert this dataframe to an interactive table.\"\n",
              "              style=\"display:none;\">\n",
              "        \n",
              "  <svg xmlns=\"http://www.w3.org/2000/svg\" height=\"24px\"viewBox=\"0 0 24 24\"\n",
              "       width=\"24px\">\n",
              "    <path d=\"M0 0h24v24H0V0z\" fill=\"none\"/>\n",
              "    <path d=\"M18.56 5.44l.94 2.06.94-2.06 2.06-.94-2.06-.94-.94-2.06-.94 2.06-2.06.94zm-11 1L8.5 8.5l.94-2.06 2.06-.94-2.06-.94L8.5 2.5l-.94 2.06-2.06.94zm10 10l.94 2.06.94-2.06 2.06-.94-2.06-.94-.94-2.06-.94 2.06-2.06.94z\"/><path d=\"M17.41 7.96l-1.37-1.37c-.4-.4-.92-.59-1.43-.59-.52 0-1.04.2-1.43.59L10.3 9.45l-7.72 7.72c-.78.78-.78 2.05 0 2.83L4 21.41c.39.39.9.59 1.41.59.51 0 1.02-.2 1.41-.59l7.78-7.78 2.81-2.81c.8-.78.8-2.07 0-2.86zM5.41 20L4 18.59l7.72-7.72 1.47 1.35L5.41 20z\"/>\n",
              "  </svg>\n",
              "      </button>\n",
              "      \n",
              "  <style>\n",
              "    .colab-df-container {\n",
              "      display:flex;\n",
              "      flex-wrap:wrap;\n",
              "      gap: 12px;\n",
              "    }\n",
              "\n",
              "    .colab-df-convert {\n",
              "      background-color: #E8F0FE;\n",
              "      border: none;\n",
              "      border-radius: 50%;\n",
              "      cursor: pointer;\n",
              "      display: none;\n",
              "      fill: #1967D2;\n",
              "      height: 32px;\n",
              "      padding: 0 0 0 0;\n",
              "      width: 32px;\n",
              "    }\n",
              "\n",
              "    .colab-df-convert:hover {\n",
              "      background-color: #E2EBFA;\n",
              "      box-shadow: 0px 1px 2px rgba(60, 64, 67, 0.3), 0px 1px 3px 1px rgba(60, 64, 67, 0.15);\n",
              "      fill: #174EA6;\n",
              "    }\n",
              "\n",
              "    [theme=dark] .colab-df-convert {\n",
              "      background-color: #3B4455;\n",
              "      fill: #D2E3FC;\n",
              "    }\n",
              "\n",
              "    [theme=dark] .colab-df-convert:hover {\n",
              "      background-color: #434B5C;\n",
              "      box-shadow: 0px 1px 3px 1px rgba(0, 0, 0, 0.15);\n",
              "      filter: drop-shadow(0px 1px 2px rgba(0, 0, 0, 0.3));\n",
              "      fill: #FFFFFF;\n",
              "    }\n",
              "  </style>\n",
              "\n",
              "      <script>\n",
              "        const buttonEl =\n",
              "          document.querySelector('#df-9c54dc58-7435-4b00-8d21-3ab6db8ae4f0 button.colab-df-convert');\n",
              "        buttonEl.style.display =\n",
              "          google.colab.kernel.accessAllowed ? 'block' : 'none';\n",
              "\n",
              "        async function convertToInteractive(key) {\n",
              "          const element = document.querySelector('#df-9c54dc58-7435-4b00-8d21-3ab6db8ae4f0');\n",
              "          const dataTable =\n",
              "            await google.colab.kernel.invokeFunction('convertToInteractive',\n",
              "                                                     [key], {});\n",
              "          if (!dataTable) return;\n",
              "\n",
              "          const docLinkHtml = 'Like what you see? Visit the ' +\n",
              "            '<a target=\"_blank\" href=https://colab.research.google.com/notebooks/data_table.ipynb>data table notebook</a>'\n",
              "            + ' to learn more about interactive tables.';\n",
              "          element.innerHTML = '';\n",
              "          dataTable['output_type'] = 'display_data';\n",
              "          await google.colab.output.renderOutput(dataTable, element);\n",
              "          const docLink = document.createElement('div');\n",
              "          docLink.innerHTML = docLinkHtml;\n",
              "          element.appendChild(docLink);\n",
              "        }\n",
              "      </script>\n",
              "    </div>\n",
              "  </div>\n",
              "  "
            ]
          },
          "metadata": {},
          "execution_count": 27
        }
      ]
    },
    {
      "cell_type": "markdown",
      "source": [
        "There are 2 columns that have skew distribution:\n",
        "- Age is right skewed\n",
        "- Deductible also right skewed"
      ],
      "metadata": {
        "id": "gHJei4BsfFF4"
      }
    },
    {
      "cell_type": "code",
      "source": [
        "fig, ax = plt.subplots(1,2, figsize=(8,6))\n",
        "sns.distplot(X_train['Age'], ax=ax[0])\n",
        "sns.distplot(X_train['Deductible'], ax=ax[1])"
      ],
      "metadata": {
        "colab": {
          "base_uri": "https://localhost:8080/",
          "height": 409
        },
        "id": "WzL6QW5IfUqS",
        "outputId": "f8c10b3f-6717-4590-d1a3-943d7e11a50f"
      },
      "execution_count": 28,
      "outputs": [
        {
          "output_type": "execute_result",
          "data": {
            "text/plain": [
              "<matplotlib.axes._subplots.AxesSubplot at 0x7fd9698a49d0>"
            ]
          },
          "metadata": {},
          "execution_count": 28
        },
        {
          "output_type": "display_data",
          "data": {
            "text/plain": [
              "<Figure size 576x432 with 2 Axes>"
            ],
            "image/png": "[encoded data removed]"
          },
          "metadata": {
            "needs_background": "light"
          }
        }
      ]
    },
    {
      "cell_type": "code",
      "source": [
        "def find_normal_boundaries(df, variable):\n",
        "  upper_boundary = df[variable].mean() + 3 * df[variable].std()\n",
        "  lower_boundary = df[variable].mean() - 3 * df[variable].std()\n",
        "  return upper_boundary, lower_boundary\n",
        "\n",
        "def find_skewed_boundaries(df, variable, distance):\n",
        "  IQR = df[variable].quantile(0.75) - df[variable].quantile(0.25)\n",
        "\n",
        "  lower = df[variable].quantile(0.25) - distance * IQR\n",
        "  upper = df[variable].quantile(0.75) + distance * IQR\n",
        "  return upper, lower"
      ],
      "metadata": {
        "id": "iYkz068cfpmp"
      },
      "execution_count": 29,
      "outputs": []
    },
    {
      "cell_type": "code",
      "source": [
        "X_train_distr"
      ],
      "metadata": {
        "colab": {
          "base_uri": "https://localhost:8080/",
          "height": 300
        },
        "id": "c84ZfKtXl2zU",
        "outputId": "f2c51718-a125-4036-bba6-9b0780603de1"
      },
      "execution_count": 30,
      "outputs": [
        {
          "output_type": "execute_result",
          "data": {
            "text/plain": [
              "              columns      skew distribution\n",
              "0         WeekOfMonth  0.113659       Normal\n",
              "1  WeekOfMonthClaimed  0.149548       Normal\n",
              "2                 Age  0.715352         Skew\n",
              "3        PolicyNumber  0.006882       Normal\n",
              "4           RepNumber  0.011597       Normal\n",
              "5          Deductible  6.020236         Skew\n",
              "6        DriverRating  0.007453       Normal\n",
              "7                Year  0.255512       Normal"
            ],
            "text/html": [
              "\n",
              "  <div id=\"df-b23e3908-de2e-428c-a8f1-d9d53169d188\">\n",
              "    <div class=\"colab-df-container\">\n",
              "      <div>\n",
              "<style scoped>\n",
              "    .dataframe tbody tr th:only-of-type {\n",
              "        vertical-align: middle;\n",
              "    }\n",
              "\n",
              "    .dataframe tbody tr th {\n",
              "        vertical-align: top;\n",
              "    }\n",
              "\n",
              "    .dataframe thead th {\n",
              "        text-align: right;\n",
              "    }\n",
              "</style>\n",
              "<table border=\"1\" class=\"dataframe\">\n",
              "  <thead>\n",
              "    <tr style=\"text-align: right;\">\n",
              "      <th></th>\n",
              "      <th>columns</th>\n",
              "      <th>skew</th>\n",
              "      <th>distribution</th>\n",
              "    </tr>\n",
              "  </thead>\n",
              "  <tbody>\n",
              "    <tr>\n",
              "      <th>0</th>\n",
              "      <td>WeekOfMonth</td>\n",
              "      <td>0.113659</td>\n",
              "      <td>Normal</td>\n",
              "    </tr>\n",
              "    <tr>\n",
              "      <th>1</th>\n",
              "      <td>WeekOfMonthClaimed</td>\n",
              "      <td>0.149548</td>\n",
              "      <td>Normal</td>\n",
              "    </tr>\n",
              "    <tr>\n",
              "      <th>2</th>\n",
              "      <td>Age</td>\n",
              "      <td>0.715352</td>\n",
              "      <td>Skew</td>\n",
              "    </tr>\n",
              "    <tr>\n",
              "      <th>3</th>\n",
              "      <td>PolicyNumber</td>\n",
              "      <td>0.006882</td>\n",
              "      <td>Normal</td>\n",
              "    </tr>\n",
              "    <tr>\n",
              "      <th>4</th>\n",
              "      <td>RepNumber</td>\n",
              "      <td>0.011597</td>\n",
              "      <td>Normal</td>\n",
              "    </tr>\n",
              "    <tr>\n",
              "      <th>5</th>\n",
              "      <td>Deductible</td>\n",
              "      <td>6.020236</td>\n",
              "      <td>Skew</td>\n",
              "    </tr>\n",
              "    <tr>\n",
              "      <th>6</th>\n",
              "      <td>DriverRating</td>\n",
              "      <td>0.007453</td>\n",
              "      <td>Normal</td>\n",
              "    </tr>\n",
              "    <tr>\n",
              "      <th>7</th>\n",
              "      <td>Year</td>\n",
              "      <td>0.255512</td>\n",
              "      <td>Normal</td>\n",
              "    </tr>\n",
              "  </tbody>\n",
              "</table>\n",
              "</div>\n",
              "      <button class=\"colab-df-convert\" onclick=\"convertToInteractive('df-b23e3908-de2e-428c-a8f1-d9d53169d188')\"\n",
              "              title=\"Convert this dataframe to an interactive table.\"\n",
              "              style=\"display:none;\">\n",
              "        \n",
              "  <svg xmlns=\"http://www.w3.org/2000/svg\" height=\"24px\"viewBox=\"0 0 24 24\"\n",
              "       width=\"24px\">\n",
              "    <path d=\"M0 0h24v24H0V0z\" fill=\"none\"/>\n",
              "    <path d=\"M18.56 5.44l.94 2.06.94-2.06 2.06-.94-2.06-.94-.94-2.06-.94 2.06-2.06.94zm-11 1L8.5 8.5l.94-2.06 2.06-.94-2.06-.94L8.5 2.5l-.94 2.06-2.06.94zm10 10l.94 2.06.94-2.06 2.06-.94-2.06-.94-.94-2.06-.94 2.06-2.06.94z\"/><path d=\"M17.41 7.96l-1.37-1.37c-.4-.4-.92-.59-1.43-.59-.52 0-1.04.2-1.43.59L10.3 9.45l-7.72 7.72c-.78.78-.78 2.05 0 2.83L4 21.41c.39.39.9.59 1.41.59.51 0 1.02-.2 1.41-.59l7.78-7.78 2.81-2.81c.8-.78.8-2.07 0-2.86zM5.41 20L4 18.59l7.72-7.72 1.47 1.35L5.41 20z\"/>\n",
              "  </svg>\n",
              "      </button>\n",
              "      \n",
              "  <style>\n",
              "    .colab-df-container {\n",
              "      display:flex;\n",
              "      flex-wrap:wrap;\n",
              "      gap: 12px;\n",
              "    }\n",
              "\n",
              "    .colab-df-convert {\n",
              "      background-color: #E8F0FE;\n",
              "      border: none;\n",
              "      border-radius: 50%;\n",
              "      cursor: pointer;\n",
              "      display: none;\n",
              "      fill: #1967D2;\n",
              "      height: 32px;\n",
              "      padding: 0 0 0 0;\n",
              "      width: 32px;\n",
              "    }\n",
              "\n",
              "    .colab-df-convert:hover {\n",
              "      background-color: #E2EBFA;\n",
              "      box-shadow: 0px 1px 2px rgba(60, 64, 67, 0.3), 0px 1px 3px 1px rgba(60, 64, 67, 0.15);\n",
              "      fill: #174EA6;\n",
              "    }\n",
              "\n",
              "    [theme=dark] .colab-df-convert {\n",
              "      background-color: #3B4455;\n",
              "      fill: #D2E3FC;\n",
              "    }\n",
              "\n",
              "    [theme=dark] .colab-df-convert:hover {\n",
              "      background-color: #434B5C;\n",
              "      box-shadow: 0px 1px 3px 1px rgba(0, 0, 0, 0.15);\n",
              "      filter: drop-shadow(0px 1px 2px rgba(0, 0, 0, 0.3));\n",
              "      fill: #FFFFFF;\n",
              "    }\n",
              "  </style>\n",
              "\n",
              "      <script>\n",
              "        const buttonEl =\n",
              "          document.querySelector('#df-b23e3908-de2e-428c-a8f1-d9d53169d188 button.colab-df-convert');\n",
              "        buttonEl.style.display =\n",
              "          google.colab.kernel.accessAllowed ? 'block' : 'none';\n",
              "\n",
              "        async function convertToInteractive(key) {\n",
              "          const element = document.querySelector('#df-b23e3908-de2e-428c-a8f1-d9d53169d188');\n",
              "          const dataTable =\n",
              "            await google.colab.kernel.invokeFunction('convertToInteractive',\n",
              "                                                     [key], {});\n",
              "          if (!dataTable) return;\n",
              "\n",
              "          const docLinkHtml = 'Like what you see? Visit the ' +\n",
              "            '<a target=\"_blank\" href=https://colab.research.google.com/notebooks/data_table.ipynb>data table notebook</a>'\n",
              "            + ' to learn more about interactive tables.';\n",
              "          element.innerHTML = '';\n",
              "          dataTable['output_type'] = 'display_data';\n",
              "          await google.colab.output.renderOutput(dataTable, element);\n",
              "          const docLink = document.createElement('div');\n",
              "          docLink.innerHTML = docLinkHtml;\n",
              "          element.appendChild(docLink);\n",
              "        }\n",
              "      </script>\n",
              "    </div>\n",
              "  </div>\n",
              "  "
            ]
          },
          "metadata": {},
          "execution_count": 30
        }
      ]
    },
    {
      "cell_type": "code",
      "source": [
        "j = 0\n",
        "outliers = {}\n",
        "for i in X_train.describe().columns:\n",
        "  if X_train_distr['distribution'].loc[(X_train_distr['columns']==i)].values[0] == 'Normal':\n",
        "    upper_boundary, lower_boundary = find_normal_boundaries(X_train, i)\n",
        "    print(f\"Boundary Lower dan Upper {i}: {lower_boundary, upper_boundary}\")\n",
        "    outliers[f\"outliers{j}\"] = np.where(X_train[i] > upper_boundary, True, np.where(X_train[i] < lower_boundary, True, False))\n",
        "  else:\n",
        "    upper_boundary, lower_boundary = find_skewed_boundaries(X_train, i, 1.5)\n",
        "    print(f\"Batas lower dan upper untuk {i}:{lower_boundary, upper_boundary}\")\n",
        "    outliers[f\"outliers{j}\"] = np.where(X_train[i] > upper_boundary, True, np.where(X_train[i] < lower_boundary, True, False))\n",
        "  print(\"=\"*30)\n",
        "  j+= 1"
      ],
      "metadata": {
        "colab": {
          "base_uri": "https://localhost:8080/"
        },
        "id": "wIFWy0WogbuA",
        "outputId": "4b4c5e81-37f9-47b5-c46d-31e35b46557f"
      },
      "execution_count": 31,
      "outputs": [
        {
          "output_type": "stream",
          "name": "stdout",
          "text": [
            "Boundary Lower dan Upper WeekOfMonth: (-1.0579133211356835, 6.642546199628211)\n",
            "==============================\n",
            "Boundary Lower dan Upper WeekOfMonthClaimed: (-1.06743303626692, 6.461682548937485)\n",
            "==============================\n",
            "Batas lower dan upper untuk Age:(4.0, 76.0)\n",
            "==============================\n",
            "Boundary Lower dan Upper PolicyNumber: (-5671.387008329399, 21041.613454073387)\n",
            "==============================\n",
            "Boundary Lower dan Upper RepNumber: (-5.331157002274647, 22.218259016569643)\n",
            "==============================\n",
            "Batas lower dan upper untuk Deductible:(400.0, 400.0)\n",
            "==============================\n",
            "Boundary Lower dan Upper DriverRating: (-0.8716744681675266, 5.850881745620418)\n",
            "==============================\n",
            "Boundary Lower dan Upper Year: (1992.4524538766675, 1997.2700932318446)\n",
            "==============================\n"
          ]
        }
      ]
    },
    {
      "cell_type": "markdown",
      "source": [
        "In order to handling outliers, we are going to make some rules like:\n",
        "\n",
        "- If outliers is between 0 - 5%, we are going to use trimming\n",
        "\n",
        "- If outliers is between 5 - 15%, we are going to use capping/windsorizer"
      ],
      "metadata": {
        "id": "c1-KeWPVnhDC"
      }
    },
    {
      "cell_type": "code",
      "source": [
        "for i, (k,v) in enumerate(outliers.items()):\n",
        "  X_train_distr_handling = X_train.loc[~outliers[k]]\n",
        "  X_train_distr.loc[i, 'trimmed_row'] = X_train.shape[0] - X_train_distr_handling.shape[0]\n",
        "  X_train_distr.loc[i, 'percentage'] = np.round(100-(X_train_distr_handling.shape[0]/X_train.shape[0]*100), 2)\n",
        "  X_train_distr.loc[i, 'action'] = np.where(X_train_distr.loc[i, 'percentage']==0, 'No Action',\n",
        "                                    np.where(X_train_distr.loc[i, 'percentage'] > 15, 'Capping/Windsorizer', 'Trimming'))"
      ],
      "metadata": {
        "id": "FRjucrPHn9Sy"
      },
      "execution_count": 32,
      "outputs": []
    },
    {
      "cell_type": "code",
      "source": [
        "X_train_distr"
      ],
      "metadata": {
        "colab": {
          "base_uri": "https://localhost:8080/",
          "height": 300
        },
        "id": "_DimeC0Co-Ha",
        "outputId": "8d2b4821-4d05-4ab9-ed0f-74aa57179ffc"
      },
      "execution_count": 33,
      "outputs": [
        {
          "output_type": "execute_result",
          "data": {
            "text/plain": [
              "              columns      skew distribution  trimmed_row  percentage  \\\n",
              "0         WeekOfMonth  0.113659       Normal          0.0        0.00   \n",
              "1  WeekOfMonthClaimed  0.149548       Normal          0.0        0.00   \n",
              "2                 Age  0.715352         Skew         90.0        0.73   \n",
              "3        PolicyNumber  0.006882       Normal          0.0        0.00   \n",
              "4           RepNumber  0.011597       Normal          0.0        0.00   \n",
              "5          Deductible  6.020236         Skew        479.0        3.89   \n",
              "6        DriverRating  0.007453       Normal          0.0        0.00   \n",
              "7                Year  0.255512       Normal          0.0        0.00   \n",
              "\n",
              "      action  \n",
              "0  No Action  \n",
              "1  No Action  \n",
              "2   Trimming  \n",
              "3  No Action  \n",
              "4  No Action  \n",
              "5   Trimming  \n",
              "6  No Action  \n",
              "7  No Action  "
            ],
            "text/html": [
              "\n",
              "  <div id=\"df-730f8ff1-9a12-4382-97d9-a3771a8d47ec\">\n",
              "    <div class=\"colab-df-container\">\n",
              "      <div>\n",
              "<style scoped>\n",
              "    .dataframe tbody tr th:only-of-type {\n",
              "        vertical-align: middle;\n",
              "    }\n",
              "\n",
              "    .dataframe tbody tr th {\n",
              "        vertical-align: top;\n",
              "    }\n",
              "\n",
              "    .dataframe thead th {\n",
              "        text-align: right;\n",
              "    }\n",
              "</style>\n",
              "<table border=\"1\" class=\"dataframe\">\n",
              "  <thead>\n",
              "    <tr style=\"text-align: right;\">\n",
              "      <th></th>\n",
              "      <th>columns</th>\n",
              "      <th>skew</th>\n",
              "      <th>distribution</th>\n",
              "      <th>trimmed_row</th>\n",
              "      <th>percentage</th>\n",
              "      <th>action</th>\n",
              "    </tr>\n",
              "  </thead>\n",
              "  <tbody>\n",
              "    <tr>\n",
              "      <th>0</th>\n",
              "      <td>WeekOfMonth</td>\n",
              "      <td>0.113659</td>\n",
              "      <td>Normal</td>\n",
              "      <td>0.0</td>\n",
              "      <td>0.00</td>\n",
              "      <td>No Action</td>\n",
              "    </tr>\n",
              "    <tr>\n",
              "      <th>1</th>\n",
              "      <td>WeekOfMonthClaimed</td>\n",
              "      <td>0.149548</td>\n",
              "      <td>Normal</td>\n",
              "      <td>0.0</td>\n",
              "      <td>0.00</td>\n",
              "      <td>No Action</td>\n",
              "    </tr>\n",
              "    <tr>\n",
              "      <th>2</th>\n",
              "      <td>Age</td>\n",
              "      <td>0.715352</td>\n",
              "      <td>Skew</td>\n",
              "      <td>90.0</td>\n",
              "      <td>0.73</td>\n",
              "      <td>Trimming</td>\n",
              "    </tr>\n",
              "    <tr>\n",
              "      <th>3</th>\n",
              "      <td>PolicyNumber</td>\n",
              "      <td>0.006882</td>\n",
              "      <td>Normal</td>\n",
              "      <td>0.0</td>\n",
              "      <td>0.00</td>\n",
              "      <td>No Action</td>\n",
              "    </tr>\n",
              "    <tr>\n",
              "      <th>4</th>\n",
              "      <td>RepNumber</td>\n",
              "      <td>0.011597</td>\n",
              "      <td>Normal</td>\n",
              "      <td>0.0</td>\n",
              "      <td>0.00</td>\n",
              "      <td>No Action</td>\n",
              "    </tr>\n",
              "    <tr>\n",
              "      <th>5</th>\n",
              "      <td>Deductible</td>\n",
              "      <td>6.020236</td>\n",
              "      <td>Skew</td>\n",
              "      <td>479.0</td>\n",
              "      <td>3.89</td>\n",
              "      <td>Trimming</td>\n",
              "    </tr>\n",
              "    <tr>\n",
              "      <th>6</th>\n",
              "      <td>DriverRating</td>\n",
              "      <td>0.007453</td>\n",
              "      <td>Normal</td>\n",
              "      <td>0.0</td>\n",
              "      <td>0.00</td>\n",
              "      <td>No Action</td>\n",
              "    </tr>\n",
              "    <tr>\n",
              "      <th>7</th>\n",
              "      <td>Year</td>\n",
              "      <td>0.255512</td>\n",
              "      <td>Normal</td>\n",
              "      <td>0.0</td>\n",
              "      <td>0.00</td>\n",
              "      <td>No Action</td>\n",
              "    </tr>\n",
              "  </tbody>\n",
              "</table>\n",
              "</div>\n",
              "      <button class=\"colab-df-convert\" onclick=\"convertToInteractive('df-730f8ff1-9a12-4382-97d9-a3771a8d47ec')\"\n",
              "              title=\"Convert this dataframe to an interactive table.\"\n",
              "              style=\"display:none;\">\n",
              "        \n",
              "  <svg xmlns=\"http://www.w3.org/2000/svg\" height=\"24px\"viewBox=\"0 0 24 24\"\n",
              "       width=\"24px\">\n",
              "    <path d=\"M0 0h24v24H0V0z\" fill=\"none\"/>\n",
              "    <path d=\"M18.56 5.44l.94 2.06.94-2.06 2.06-.94-2.06-.94-.94-2.06-.94 2.06-2.06.94zm-11 1L8.5 8.5l.94-2.06 2.06-.94-2.06-.94L8.5 2.5l-.94 2.06-2.06.94zm10 10l.94 2.06.94-2.06 2.06-.94-2.06-.94-.94-2.06-.94 2.06-2.06.94z\"/><path d=\"M17.41 7.96l-1.37-1.37c-.4-.4-.92-.59-1.43-.59-.52 0-1.04.2-1.43.59L10.3 9.45l-7.72 7.72c-.78.78-.78 2.05 0 2.83L4 21.41c.39.39.9.59 1.41.59.51 0 1.02-.2 1.41-.59l7.78-7.78 2.81-2.81c.8-.78.8-2.07 0-2.86zM5.41 20L4 18.59l7.72-7.72 1.47 1.35L5.41 20z\"/>\n",
              "  </svg>\n",
              "      </button>\n",
              "      \n",
              "  <style>\n",
              "    .colab-df-container {\n",
              "      display:flex;\n",
              "      flex-wrap:wrap;\n",
              "      gap: 12px;\n",
              "    }\n",
              "\n",
              "    .colab-df-convert {\n",
              "      background-color: #E8F0FE;\n",
              "      border: none;\n",
              "      border-radius: 50%;\n",
              "      cursor: pointer;\n",
              "      display: none;\n",
              "      fill: #1967D2;\n",
              "      height: 32px;\n",
              "      padding: 0 0 0 0;\n",
              "      width: 32px;\n",
              "    }\n",
              "\n",
              "    .colab-df-convert:hover {\n",
              "      background-color: #E2EBFA;\n",
              "      box-shadow: 0px 1px 2px rgba(60, 64, 67, 0.3), 0px 1px 3px 1px rgba(60, 64, 67, 0.15);\n",
              "      fill: #174EA6;\n",
              "    }\n",
              "\n",
              "    [theme=dark] .colab-df-convert {\n",
              "      background-color: #3B4455;\n",
              "      fill: #D2E3FC;\n",
              "    }\n",
              "\n",
              "    [theme=dark] .colab-df-convert:hover {\n",
              "      background-color: #434B5C;\n",
              "      box-shadow: 0px 1px 3px 1px rgba(0, 0, 0, 0.15);\n",
              "      filter: drop-shadow(0px 1px 2px rgba(0, 0, 0, 0.3));\n",
              "      fill: #FFFFFF;\n",
              "    }\n",
              "  </style>\n",
              "\n",
              "      <script>\n",
              "        const buttonEl =\n",
              "          document.querySelector('#df-730f8ff1-9a12-4382-97d9-a3771a8d47ec button.colab-df-convert');\n",
              "        buttonEl.style.display =\n",
              "          google.colab.kernel.accessAllowed ? 'block' : 'none';\n",
              "\n",
              "        async function convertToInteractive(key) {\n",
              "          const element = document.querySelector('#df-730f8ff1-9a12-4382-97d9-a3771a8d47ec');\n",
              "          const dataTable =\n",
              "            await google.colab.kernel.invokeFunction('convertToInteractive',\n",
              "                                                     [key], {});\n",
              "          if (!dataTable) return;\n",
              "\n",
              "          const docLinkHtml = 'Like what you see? Visit the ' +\n",
              "            '<a target=\"_blank\" href=https://colab.research.google.com/notebooks/data_table.ipynb>data table notebook</a>'\n",
              "            + ' to learn more about interactive tables.';\n",
              "          element.innerHTML = '';\n",
              "          dataTable['output_type'] = 'display_data';\n",
              "          await google.colab.output.renderOutput(dataTable, element);\n",
              "          const docLink = document.createElement('div');\n",
              "          docLink.innerHTML = docLinkHtml;\n",
              "          element.appendChild(docLink);\n",
              "        }\n",
              "      </script>\n",
              "    </div>\n",
              "  </div>\n",
              "  "
            ]
          },
          "metadata": {},
          "execution_count": 33
        }
      ]
    },
    {
      "cell_type": "code",
      "source": [
        "outliers_tot = outliers['outliers2']\n",
        "\n",
        "for i, (k,v) in enumerate(outliers.items()):\n",
        "  if i in [2,5]: # Age, Deductible\n",
        "    outliers_tot += outliers[k]"
      ],
      "metadata": {
        "id": "s89TZ-afpTvN"
      },
      "execution_count": 34,
      "outputs": []
    },
    {
      "cell_type": "code",
      "source": [
        "X_train_trimmed = X_train.loc[~outliers_tot]\n",
        "y_train_trimmed = y_train.loc[~outliers_tot]\n",
        "\n",
        "print(f\"Total rows in X_train BEFORE trimmed: {X_train.shape[0]}\")\n",
        "print(f\"Total rows in X_train AFTER trimmed: {X_train_trimmed.shape[0]}\")\n",
        "print(f\"% Outliers on the dataset: {100-(X_train_trimmed.shape[0]/X_train.shape[0]*100):.2f}%\")"
      ],
      "metadata": {
        "colab": {
          "base_uri": "https://localhost:8080/"
        },
        "id": "TAgXxnhqqk9B",
        "outputId": "da36e5d5-c519-4a7b-be2f-32ae6202ed8d"
      },
      "execution_count": 35,
      "outputs": [
        {
          "output_type": "stream",
          "name": "stdout",
          "text": [
            "Total rows in X_train BEFORE trimmed: 12312\n",
            "Total rows in X_train AFTER trimmed: 11747\n",
            "% Outliers on the dataset: 4.59%\n"
          ]
        }
      ]
    },
    {
      "cell_type": "code",
      "source": [
        "def diagnostic_plot(df, variable, figsize=(16,4)):\n",
        "  plt.figure(figsize=figsize)\n",
        "\n",
        "  # Histogram\n",
        "  plt.subplot(1,2,1)\n",
        "  sns.histplot(df[variable], bins=30)\n",
        "  plt.title(\"Histogram\")\n",
        "\n",
        "  # Boxplot\n",
        "  plt.subplot(1,2,2)\n",
        "  sns.boxplot(y=df[variable])\n",
        "  plt.title('Boxplot')\n",
        "\n",
        "  plt.show()"
      ],
      "metadata": {
        "id": "d2AlUshMszqN"
      },
      "execution_count": 36,
      "outputs": []
    },
    {
      "cell_type": "code",
      "source": [
        "for col in ['Age', 'Deductible']:\n",
        "  print(f\"{col} - Before Trimming\")\n",
        "  diagnostic_plot(X_train, col)\n",
        "  print(f\"\\n{col} - After Trimming\")\n",
        "  diagnostic_plot(X_train_trimmed, col)"
      ],
      "metadata": {
        "colab": {
          "base_uri": "https://localhost:8080/",
          "height": 1000
        },
        "id": "Q8ZjVpXxqvnJ",
        "outputId": "f0b58042-89b3-4f3c-f1c9-4b65be24aa88"
      },
      "execution_count": 37,
      "outputs": [
        {
          "output_type": "stream",
          "name": "stdout",
          "text": [
            "Age - Before Trimming\n"
          ]
        },
        {
          "output_type": "display_data",
          "data": {
            "text/plain": [
              "<Figure size 1152x288 with 2 Axes>"
            ],
            "image/png": "[encoded data removed]"
          },
          "metadata": {
            "needs_background": "light"
          }
        },
        {
          "output_type": "stream",
          "name": "stdout",
          "text": [
            "\n",
            "Age - After Trimming\n"
          ]
        },
        {
          "output_type": "display_data",
          "data": {
            "text/plain": [
              "<Figure size 1152x288 with 2 Axes>"
            ],
            "image/png": "[encoded data removed]"
          },
          "metadata": {
            "needs_background": "light"
          }
        },
        {
          "output_type": "stream",
          "name": "stdout",
          "text": [
            "Deductible - Before Trimming\n"
          ]
        },
        {
          "output_type": "display_data",
          "data": {
            "text/plain": [
              "<Figure size 1152x288 with 2 Axes>"
            ],
            "image/png": "[encoded data removed]"
          },
          "metadata": {
            "needs_background": "light"
          }
        },
        {
          "output_type": "stream",
          "name": "stdout",
          "text": [
            "\n",
            "Deductible - After Trimming\n"
          ]
        },
        {
          "output_type": "display_data",
          "data": {
            "text/plain": [
              "<Figure size 1152x288 with 2 Axes>"
            ],
            "image/png": "[encoded data removed]"
          },
          "metadata": {
            "needs_background": "light"
          }
        }
      ]
    },
    {
      "cell_type": "markdown",
      "source": [
        "## Missing Value Handling"
      ],
      "metadata": {
        "id": "ssodZvw4ta5k"
      }
    },
    {
      "cell_type": "code",
      "source": [
        "X_train_trimmed.isna().sum()"
      ],
      "metadata": {
        "colab": {
          "base_uri": "https://localhost:8080/"
        },
        "id": "KOZ78sFgthjp",
        "outputId": "9e12077e-2c7f-44d5-a2dc-91a60aca892c"
      },
      "execution_count": 38,
      "outputs": [
        {
          "output_type": "execute_result",
          "data": {
            "text/plain": [
              "Month                     0\n",
              "WeekOfMonth               0\n",
              "DayOfWeek                 0\n",
              "Make                      0\n",
              "AccidentArea              0\n",
              "DayOfWeekClaimed          0\n",
              "MonthClaimed              0\n",
              "WeekOfMonthClaimed        0\n",
              "Sex                       0\n",
              "MaritalStatus             0\n",
              "Age                     243\n",
              "Fault                     0\n",
              "PolicyType                0\n",
              "VehicleCategory           0\n",
              "VehiclePrice              0\n",
              "PolicyNumber              0\n",
              "RepNumber                 0\n",
              "Deductible                0\n",
              "DriverRating              0\n",
              "Days_Policy_Accident      0\n",
              "Days_Policy_Claim         0\n",
              "PastNumberOfClaims        0\n",
              "AgeOfVehicle              0\n",
              "AgeOfPolicyHolder         0\n",
              "PoliceReportFiled         0\n",
              "WitnessPresent            0\n",
              "AgentType                 0\n",
              "NumberOfSuppliments       0\n",
              "AddressChange_Claim       0\n",
              "NumberOfCars              0\n",
              "Year                      0\n",
              "BasePolicy                0\n",
              "dtype: int64"
            ]
          },
          "metadata": {},
          "execution_count": 38
        }
      ]
    },
    {
      "cell_type": "code",
      "source": [
        "X_train_trimmed['Age'].skew()"
      ],
      "metadata": {
        "colab": {
          "base_uri": "https://localhost:8080/"
        },
        "id": "OJmnD_GRtjTv",
        "outputId": "e5240386-f038-4eb0-efc2-caf5e1cd7c08"
      },
      "execution_count": 39,
      "outputs": [
        {
          "output_type": "execute_result",
          "data": {
            "text/plain": [
              "0.6357315051693005"
            ]
          },
          "metadata": {},
          "execution_count": 39
        }
      ]
    },
    {
      "cell_type": "code",
      "source": [
        "X_test.isna().sum()"
      ],
      "metadata": {
        "colab": {
          "base_uri": "https://localhost:8080/"
        },
        "id": "vZ2iOZUit3VQ",
        "outputId": "63c4bb8f-c219-4147-de81-caaf2b35f8ce"
      },
      "execution_count": 40,
      "outputs": [
        {
          "output_type": "execute_result",
          "data": {
            "text/plain": [
              "Month                    0\n",
              "WeekOfMonth              0\n",
              "DayOfWeek                0\n",
              "Make                     0\n",
              "AccidentArea             0\n",
              "DayOfWeekClaimed         0\n",
              "MonthClaimed             0\n",
              "WeekOfMonthClaimed       0\n",
              "Sex                      0\n",
              "MaritalStatus            0\n",
              "Age                     76\n",
              "Fault                    0\n",
              "PolicyType               0\n",
              "VehicleCategory          0\n",
              "VehiclePrice             0\n",
              "PolicyNumber             0\n",
              "RepNumber                0\n",
              "Deductible               0\n",
              "DriverRating             0\n",
              "Days_Policy_Accident     0\n",
              "Days_Policy_Claim        0\n",
              "PastNumberOfClaims       0\n",
              "AgeOfVehicle             0\n",
              "AgeOfPolicyHolder        0\n",
              "PoliceReportFiled        0\n",
              "WitnessPresent           0\n",
              "AgentType                0\n",
              "NumberOfSuppliments      0\n",
              "AddressChange_Claim      0\n",
              "NumberOfCars             0\n",
              "Year                     0\n",
              "BasePolicy               0\n",
              "dtype: int64"
            ]
          },
          "metadata": {},
          "execution_count": 40
        }
      ]
    },
    {
      "cell_type": "markdown",
      "source": [
        "We can fill the missing value of Age columns with its median."
      ],
      "metadata": {
        "id": "Oxdqy1lUt8yS"
      }
    },
    {
      "cell_type": "code",
      "source": [
        "X_train_trimmed['Age'].fillna(X_train_trimmed['Age'].median(), inplace=True)\n",
        "X_test['Age'].fillna(X_train_trimmed['Age'].median(), inplace=True)"
      ],
      "metadata": {
        "id": "V6bckXTyuHx1"
      },
      "execution_count": 41,
      "outputs": []
    },
    {
      "cell_type": "markdown",
      "source": [
        "## Feature Selection"
      ],
      "metadata": {
        "id": "xxRxDCwbuUzD"
      }
    },
    {
      "cell_type": "code",
      "source": [
        "df_eda.head()"
      ],
      "metadata": {
        "colab": {
          "base_uri": "https://localhost:8080/",
          "height": 357
        },
        "id": "szsWYpq1uWNf",
        "outputId": "34184fd0-c184-4396-b599-4ad0baae6451"
      },
      "execution_count": 42,
      "outputs": [
        {
          "output_type": "execute_result",
          "data": {
            "text/plain": [
              "  Month  WeekOfMonth  DayOfWeek    Make AccidentArea DayOfWeekClaimed  \\\n",
              "0   Dec            5  Wednesday   Honda        Urban          Tuesday   \n",
              "1   Jan            3  Wednesday   Honda        Urban           Monday   \n",
              "2   Oct            5     Friday   Honda        Urban         Thursday   \n",
              "3   Jun            2   Saturday  Toyota        Rural           Friday   \n",
              "4   Jan            5     Monday   Honda        Urban          Tuesday   \n",
              "\n",
              "  MonthClaimed  WeekOfMonthClaimed     Sex MaritalStatus   Age          Fault  \\\n",
              "0          Jan                   1  Female        Single  21.0  Policy Holder   \n",
              "1          Jan                   4    Male        Single  34.0  Policy Holder   \n",
              "2          Nov                   2    Male       Married  47.0  Policy Holder   \n",
              "3          Jul                   1    Male       Married  65.0    Third Party   \n",
              "4          Feb                   2  Female        Single  27.0    Third Party   \n",
              "\n",
              "          PolicyType VehicleCategory     VehiclePrice FraudFound_P  \\\n",
              "0  Sport - Liability           Sport  more than 69000     no fraud   \n",
              "1  Sport - Collision           Sport  more than 69000     no fraud   \n",
              "2  Sport - Collision           Sport  more than 69000     no fraud   \n",
              "3  Sedan - Liability           Sport   20000 to 29000     no fraud   \n",
              "4  Sport - Collision           Sport  more than 69000     no fraud   \n",
              "\n",
              "   PolicyNumber  RepNumber  Deductible  DriverRating Days_Policy_Accident  \\\n",
              "0             1         12         300             1         more than 30   \n",
              "1             2         15         400             4         more than 30   \n",
              "2             3          7         400             3         more than 30   \n",
              "3             4          4         400             2         more than 30   \n",
              "4             5          3         400             1         more than 30   \n",
              "\n",
              "  Days_Policy_Claim PastNumberOfClaims AgeOfVehicle AgeOfPolicyHolder  \\\n",
              "0      more than 30               none      3 years          26 to 30   \n",
              "1      more than 30               none      6 years          31 to 35   \n",
              "2      more than 30                  1      7 years          41 to 50   \n",
              "3      more than 30                  1  more than 7          51 to 65   \n",
              "4      more than 30               none      5 years          31 to 35   \n",
              "\n",
              "  PoliceReportFiled WitnessPresent AgentType NumberOfSuppliments  \\\n",
              "0                No             No  External                none   \n",
              "1               Yes             No  External                none   \n",
              "2                No             No  External                none   \n",
              "3               Yes             No  External         more than 5   \n",
              "4                No             No  External                none   \n",
              "\n",
              "  AddressChange_Claim NumberOfCars  Year BasePolicy  \n",
              "0              1 year       3 to 4  1994  Liability  \n",
              "1           no change    1 vehicle  1994  Collision  \n",
              "2           no change    1 vehicle  1994  Collision  \n",
              "3           no change    1 vehicle  1994  Liability  \n",
              "4           no change    1 vehicle  1994  Collision  "
            ],
            "text/html": [
              "\n",
              "  <div id=\"df-16a2aed7-2502-4d1f-abe7-b7c09ef9f579\">\n",
              "    <div class=\"colab-df-container\">\n",
              "      <div>\n",
              "<style scoped>\n",
              "    .dataframe tbody tr th:only-of-type {\n",
              "        vertical-align: middle;\n",
              "    }\n",
              "\n",
              "    .dataframe tbody tr th {\n",
              "        vertical-align: top;\n",
              "    }\n",
              "\n",
              "    .dataframe thead th {\n",
              "        text-align: right;\n",
              "    }\n",
              "</style>\n",
              "<table border=\"1\" class=\"dataframe\">\n",
              "  <thead>\n",
              "    <tr style=\"text-align: right;\">\n",
              "      <th></th>\n",
              "      <th>Month</th>\n",
              "      <th>WeekOfMonth</th>\n",
              "      <th>DayOfWeek</th>\n",
              "      <th>Make</th>\n",
              "      <th>AccidentArea</th>\n",
              "      <th>DayOfWeekClaimed</th>\n",
              "      <th>MonthClaimed</th>\n",
              "      <th>WeekOfMonthClaimed</th>\n",
              "      <th>Sex</th>\n",
              "      <th>MaritalStatus</th>\n",
              "      <th>Age</th>\n",
              "      <th>Fault</th>\n",
              "      <th>PolicyType</th>\n",
              "      <th>VehicleCategory</th>\n",
              "      <th>VehiclePrice</th>\n",
              "      <th>FraudFound_P</th>\n",
              "      <th>PolicyNumber</th>\n",
              "      <th>RepNumber</th>\n",
              "      <th>Deductible</th>\n",
              "      <th>DriverRating</th>\n",
              "      <th>Days_Policy_Accident</th>\n",
              "      <th>Days_Policy_Claim</th>\n",
              "      <th>PastNumberOfClaims</th>\n",
              "      <th>AgeOfVehicle</th>\n",
              "      <th>AgeOfPolicyHolder</th>\n",
              "      <th>PoliceReportFiled</th>\n",
              "      <th>WitnessPresent</th>\n",
              "      <th>AgentType</th>\n",
              "      <th>NumberOfSuppliments</th>\n",
              "      <th>AddressChange_Claim</th>\n",
              "      <th>NumberOfCars</th>\n",
              "      <th>Year</th>\n",
              "      <th>BasePolicy</th>\n",
              "    </tr>\n",
              "  </thead>\n",
              "  <tbody>\n",
              "    <tr>\n",
              "      <th>0</th>\n",
              "      <td>Dec</td>\n",
              "      <td>5</td>\n",
              "      <td>Wednesday</td>\n",
              "      <td>Honda</td>\n",
              "      <td>Urban</td>\n",
              "      <td>Tuesday</td>\n",
              "      <td>Jan</td>\n",
              "      <td>1</td>\n",
              "      <td>Female</td>\n",
              "      <td>Single</td>\n",
              "      <td>21.0</td>\n",
              "      <td>Policy Holder</td>\n",
              "      <td>Sport - Liability</td>\n",
              "      <td>Sport</td>\n",
              "      <td>more than 69000</td>\n",
              "      <td>no fraud</td>\n",
              "      <td>1</td>\n",
              "      <td>12</td>\n",
              "      <td>300</td>\n",
              "      <td>1</td>\n",
              "      <td>more than 30</td>\n",
              "      <td>more than 30</td>\n",
              "      <td>none</td>\n",
              "      <td>3 years</td>\n",
              "      <td>26 to 30</td>\n",
              "      <td>No</td>\n",
              "      <td>No</td>\n",
              "      <td>External</td>\n",
              "      <td>none</td>\n",
              "      <td>1 year</td>\n",
              "      <td>3 to 4</td>\n",
              "      <td>1994</td>\n",
              "      <td>Liability</td>\n",
              "    </tr>\n",
              "    <tr>\n",
              "      <th>1</th>\n",
              "      <td>Jan</td>\n",
              "      <td>3</td>\n",
              "      <td>Wednesday</td>\n",
              "      <td>Honda</td>\n",
              "      <td>Urban</td>\n",
              "      <td>Monday</td>\n",
              "      <td>Jan</td>\n",
              "      <td>4</td>\n",
              "      <td>Male</td>\n",
              "      <td>Single</td>\n",
              "      <td>34.0</td>\n",
              "      <td>Policy Holder</td>\n",
              "      <td>Sport - Collision</td>\n",
              "      <td>Sport</td>\n",
              "      <td>more than 69000</td>\n",
              "      <td>no fraud</td>\n",
              "      <td>2</td>\n",
              "      <td>15</td>\n",
              "      <td>400</td>\n",
              "      <td>4</td>\n",
              "      <td>more than 30</td>\n",
              "      <td>more than 30</td>\n",
              "      <td>none</td>\n",
              "      <td>6 years</td>\n",
              "      <td>31 to 35</td>\n",
              "      <td>Yes</td>\n",
              "      <td>No</td>\n",
              "      <td>External</td>\n",
              "      <td>none</td>\n",
              "      <td>no change</td>\n",
              "      <td>1 vehicle</td>\n",
              "      <td>1994</td>\n",
              "      <td>Collision</td>\n",
              "    </tr>\n",
              "    <tr>\n",
              "      <th>2</th>\n",
              "      <td>Oct</td>\n",
              "      <td>5</td>\n",
              "      <td>Friday</td>\n",
              "      <td>Honda</td>\n",
              "      <td>Urban</td>\n",
              "      <td>Thursday</td>\n",
              "      <td>Nov</td>\n",
              "      <td>2</td>\n",
              "      <td>Male</td>\n",
              "      <td>Married</td>\n",
              "      <td>47.0</td>\n",
              "      <td>Policy Holder</td>\n",
              "      <td>Sport - Collision</td>\n",
              "      <td>Sport</td>\n",
              "      <td>more than 69000</td>\n",
              "      <td>no fraud</td>\n",
              "      <td>3</td>\n",
              "      <td>7</td>\n",
              "      <td>400</td>\n",
              "      <td>3</td>\n",
              "      <td>more than 30</td>\n",
              "      <td>more than 30</td>\n",
              "      <td>1</td>\n",
              "      <td>7 years</td>\n",
              "      <td>41 to 50</td>\n",
              "      <td>No</td>\n",
              "      <td>No</td>\n",
              "      <td>External</td>\n",
              "      <td>none</td>\n",
              "      <td>no change</td>\n",
              "      <td>1 vehicle</td>\n",
              "      <td>1994</td>\n",
              "      <td>Collision</td>\n",
              "    </tr>\n",
              "    <tr>\n",
              "      <th>3</th>\n",
              "      <td>Jun</td>\n",
              "      <td>2</td>\n",
              "      <td>Saturday</td>\n",
              "      <td>Toyota</td>\n",
              "      <td>Rural</td>\n",
              "      <td>Friday</td>\n",
              "      <td>Jul</td>\n",
              "      <td>1</td>\n",
              "      <td>Male</td>\n",
              "      <td>Married</td>\n",
              "      <td>65.0</td>\n",
              "      <td>Third Party</td>\n",
              "      <td>Sedan - Liability</td>\n",
              "      <td>Sport</td>\n",
              "      <td>20000 to 29000</td>\n",
              "      <td>no fraud</td>\n",
              "      <td>4</td>\n",
              "      <td>4</td>\n",
              "      <td>400</td>\n",
              "      <td>2</td>\n",
              "      <td>more than 30</td>\n",
              "      <td>more than 30</td>\n",
              "      <td>1</td>\n",
              "      <td>more than 7</td>\n",
              "      <td>51 to 65</td>\n",
              "      <td>Yes</td>\n",
              "      <td>No</td>\n",
              "      <td>External</td>\n",
              "      <td>more than 5</td>\n",
              "      <td>no change</td>\n",
              "      <td>1 vehicle</td>\n",
              "      <td>1994</td>\n",
              "      <td>Liability</td>\n",
              "    </tr>\n",
              "    <tr>\n",
              "      <th>4</th>\n",
              "      <td>Jan</td>\n",
              "      <td>5</td>\n",
              "      <td>Monday</td>\n",
              "      <td>Honda</td>\n",
              "      <td>Urban</td>\n",
              "      <td>Tuesday</td>\n",
              "      <td>Feb</td>\n",
              "      <td>2</td>\n",
              "      <td>Female</td>\n",
              "      <td>Single</td>\n",
              "      <td>27.0</td>\n",
              "      <td>Third Party</td>\n",
              "      <td>Sport - Collision</td>\n",
              "      <td>Sport</td>\n",
              "      <td>more than 69000</td>\n",
              "      <td>no fraud</td>\n",
              "      <td>5</td>\n",
              "      <td>3</td>\n",
              "      <td>400</td>\n",
              "      <td>1</td>\n",
              "      <td>more than 30</td>\n",
              "      <td>more than 30</td>\n",
              "      <td>none</td>\n",
              "      <td>5 years</td>\n",
              "      <td>31 to 35</td>\n",
              "      <td>No</td>\n",
              "      <td>No</td>\n",
              "      <td>External</td>\n",
              "      <td>none</td>\n",
              "      <td>no change</td>\n",
              "      <td>1 vehicle</td>\n",
              "      <td>1994</td>\n",
              "      <td>Collision</td>\n",
              "    </tr>\n",
              "  </tbody>\n",
              "</table>\n",
              "</div>\n",
              "      <button class=\"colab-df-convert\" onclick=\"convertToInteractive('df-16a2aed7-2502-4d1f-abe7-b7c09ef9f579')\"\n",
              "              title=\"Convert this dataframe to an interactive table.\"\n",
              "              style=\"display:none;\">\n",
              "        \n",
              "  <svg xmlns=\"http://www.w3.org/2000/svg\" height=\"24px\"viewBox=\"0 0 24 24\"\n",
              "       width=\"24px\">\n",
              "    <path d=\"M0 0h24v24H0V0z\" fill=\"none\"/>\n",
              "    <path d=\"M18.56 5.44l.94 2.06.94-2.06 2.06-.94-2.06-.94-.94-2.06-.94 2.06-2.06.94zm-11 1L8.5 8.5l.94-2.06 2.06-.94-2.06-.94L8.5 2.5l-.94 2.06-2.06.94zm10 10l.94 2.06.94-2.06 2.06-.94-2.06-.94-.94-2.06-.94 2.06-2.06.94z\"/><path d=\"M17.41 7.96l-1.37-1.37c-.4-.4-.92-.59-1.43-.59-.52 0-1.04.2-1.43.59L10.3 9.45l-7.72 7.72c-.78.78-.78 2.05 0 2.83L4 21.41c.39.39.9.59 1.41.59.51 0 1.02-.2 1.41-.59l7.78-7.78 2.81-2.81c.8-.78.8-2.07 0-2.86zM5.41 20L4 18.59l7.72-7.72 1.47 1.35L5.41 20z\"/>\n",
              "  </svg>\n",
              "      </button>\n",
              "      \n",
              "  <style>\n",
              "    .colab-df-container {\n",
              "      display:flex;\n",
              "      flex-wrap:wrap;\n",
              "      gap: 12px;\n",
              "    }\n",
              "\n",
              "    .colab-df-convert {\n",
              "      background-color: #E8F0FE;\n",
              "      border: none;\n",
              "      border-radius: 50%;\n",
              "      cursor: pointer;\n",
              "      display: none;\n",
              "      fill: #1967D2;\n",
              "      height: 32px;\n",
              "      padding: 0 0 0 0;\n",
              "      width: 32px;\n",
              "    }\n",
              "\n",
              "    .colab-df-convert:hover {\n",
              "      background-color: #E2EBFA;\n",
              "      box-shadow: 0px 1px 2px rgba(60, 64, 67, 0.3), 0px 1px 3px 1px rgba(60, 64, 67, 0.15);\n",
              "      fill: #174EA6;\n",
              "    }\n",
              "\n",
              "    [theme=dark] .colab-df-convert {\n",
              "      background-color: #3B4455;\n",
              "      fill: #D2E3FC;\n",
              "    }\n",
              "\n",
              "    [theme=dark] .colab-df-convert:hover {\n",
              "      background-color: #434B5C;\n",
              "      box-shadow: 0px 1px 3px 1px rgba(0, 0, 0, 0.15);\n",
              "      filter: drop-shadow(0px 1px 2px rgba(0, 0, 0, 0.3));\n",
              "      fill: #FFFFFF;\n",
              "    }\n",
              "  </style>\n",
              "\n",
              "      <script>\n",
              "        const buttonEl =\n",
              "          document.querySelector('#df-16a2aed7-2502-4d1f-abe7-b7c09ef9f579 button.colab-df-convert');\n",
              "        buttonEl.style.display =\n",
              "          google.colab.kernel.accessAllowed ? 'block' : 'none';\n",
              "\n",
              "        async function convertToInteractive(key) {\n",
              "          const element = document.querySelector('#df-16a2aed7-2502-4d1f-abe7-b7c09ef9f579');\n",
              "          const dataTable =\n",
              "            await google.colab.kernel.invokeFunction('convertToInteractive',\n",
              "                                                     [key], {});\n",
              "          if (!dataTable) return;\n",
              "\n",
              "          const docLinkHtml = 'Like what you see? Visit the ' +\n",
              "            '<a target=\"_blank\" href=https://colab.research.google.com/notebooks/data_table.ipynb>data table notebook</a>'\n",
              "            + ' to learn more about interactive tables.';\n",
              "          element.innerHTML = '';\n",
              "          dataTable['output_type'] = 'display_data';\n",
              "          await google.colab.output.renderOutput(dataTable, element);\n",
              "          const docLink = document.createElement('div');\n",
              "          docLink.innerHTML = docLinkHtml;\n",
              "          element.appendChild(docLink);\n",
              "        }\n",
              "      </script>\n",
              "    </div>\n",
              "  </div>\n",
              "  "
            ]
          },
          "metadata": {},
          "execution_count": 42
        }
      ]
    },
    {
      "cell_type": "code",
      "source": [
        "plt.figure(figsize=(8,8))\n",
        "\n",
        "sns.heatmap(df.corr(), fmt=\".2f\", square=True, annot=True, linewidths=0.5, cmap='coolwarm')\n",
        "plt.title(\"Correlation between Feature\")\n",
        "plt.show()"
      ],
      "metadata": {
        "colab": {
          "base_uri": "https://localhost:8080/",
          "height": 549
        },
        "id": "zadEo7xKuX_U",
        "outputId": "bb6ebd53-1a3c-4206-f77e-3fad6a527440"
      },
      "execution_count": 43,
      "outputs": [
        {
          "output_type": "display_data",
          "data": {
            "text/plain": [
              "<Figure size 576x576 with 2 Axes>"
            ],
            "image/png": "[encoded data removed]"
          },
          "metadata": {
            "needs_background": "light"
          }
        }
      ]
    },
    {
      "cell_type": "code",
      "source": [
        "X_train_trimmed.drop(['Month', 'WeekOfMonth', 'DayOfWeek', 'Make', 'AccidentArea', 'DayOfWeekClaimed','MonthClaimed', 'WeekOfMonthClaimed', 'PolicyNumber','RepNumber' ,'Year'], axis=1, inplace=True)\n",
        "X_test.drop(['Month', 'WeekOfMonth', 'DayOfWeek', 'Make', 'AccidentArea', 'DayOfWeekClaimed','MonthClaimed', 'WeekOfMonthClaimed', 'PolicyNumber','RepNumber' ,'Year'], axis=1, inplace=True)"
      ],
      "metadata": {
        "id": "YbYKaUv9uZnv"
      },
      "execution_count": 44,
      "outputs": []
    },
    {
      "cell_type": "markdown",
      "source": [
        "The Deleted columns is based on the correlation between feature and target columns. However, some category columns were deleted because based on information from datasets sources, some category columns didn't have a clear enough explanation."
      ],
      "metadata": {
        "id": "FlMVGd-xvdw-"
      }
    },
    {
      "cell_type": "markdown",
      "source": [
        "## Splitting Columns(Numerical and Categorical Columns)"
      ],
      "metadata": {
        "id": "NFu1GRIszhBN"
      }
    },
    {
      "cell_type": "code",
      "source": [
        "num_columns = X_train_trimmed.select_dtypes(include=np.number).columns\n",
        "cat_columns = X_train_trimmed.select_dtypes(include=['object']).columns\n",
        "\n",
        "print('Numeric Columns:', list(num_columns))\n",
        "print('Categorical Columns:', list(cat_columns))"
      ],
      "metadata": {
        "colab": {
          "base_uri": "https://localhost:8080/"
        },
        "id": "Sc7uybCOzoty",
        "outputId": "c1ddd02e-c5b4-496a-995f-2677c2159f05"
      },
      "execution_count": 45,
      "outputs": [
        {
          "output_type": "stream",
          "name": "stdout",
          "text": [
            "Numeric Columns: ['Age', 'Deductible', 'DriverRating']\n",
            "Categorical Columns: ['Sex', 'MaritalStatus', 'Fault', 'PolicyType', 'VehicleCategory', 'VehiclePrice', 'Days_Policy_Accident', 'Days_Policy_Claim', 'PastNumberOfClaims', 'AgeOfVehicle', 'AgeOfPolicyHolder', 'PoliceReportFiled', 'WitnessPresent', 'AgentType', 'NumberOfSuppliments', 'AddressChange_Claim', 'NumberOfCars', 'BasePolicy']\n"
          ]
        }
      ]
    },
    {
      "cell_type": "code",
      "source": [
        "# Split on X_train\n",
        "X_train_trimmed_num = X_train_trimmed[num_columns]\n",
        "X_train_trimmed_cat = X_train_trimmed[cat_columns]\n",
        "\n",
        "# Split on X_test\n",
        "X_test_num = X_test[num_columns]\n",
        "X_test_cat = X_test[cat_columns]\n",
        "X_test_cat = X_test_cat[X_test_cat['PolicyType'] != \"Sport - Liability\"][:]"
      ],
      "metadata": {
        "id": "oQfq-oQ6z5Po"
      },
      "execution_count": 46,
      "outputs": []
    },
    {
      "cell_type": "code",
      "source": [
        "# Scalling\n",
        "from sklearn.preprocessing import StandardScaler\n",
        "\n",
        "scaler = StandardScaler()\n",
        "X_train_trimmed_num_scaled = scaler.fit_transform(X_train_trimmed_num)\n",
        "X_test_num_scaled = scaler.transform(X_test_num)"
      ],
      "metadata": {
        "id": "dbWKlCl81SWM"
      },
      "execution_count": 47,
      "outputs": []
    },
    {
      "cell_type": "code",
      "source": [
        "from sklearn.preprocessing import OneHotEncoder\n",
        "\n",
        "encoder = OneHotEncoder()\n",
        "X_train_trimmed_cat_encoded = encoder.fit_transform(X_train_trimmed_cat)\n",
        "X_test_cat_encoded = encoder.transform(X_test_cat)"
      ],
      "metadata": {
        "id": "sZYyTDNe1gGJ"
      },
      "execution_count": 48,
      "outputs": []
    },
    {
      "cell_type": "markdown",
      "source": [
        "## Concatenate between numerical columns and categorical columns"
      ],
      "metadata": {
        "id": "-5Vz9Yo38Kih"
      }
    },
    {
      "cell_type": "code",
      "source": [
        "X_train_final = np.concatenate([X_train_trimmed_num_scaled,X_train_trimmed_cat_encoded.toarray()], axis=1)\n",
        "X_test_final = np.concatenate([X_test_num_scaled, X_test_cat_encoded.toarray()], axis=1)"
      ],
      "metadata": {
        "id": "pkEMia-b84E9"
      },
      "execution_count": 49,
      "outputs": []
    },
    {
      "cell_type": "markdown",
      "source": [
        "## Model Definition, Training, Evaluation"
      ],
      "metadata": {
        "id": "fdP9h3Ni9fG9"
      }
    },
    {
      "cell_type": "markdown",
      "source": [
        "### Logistic Regression"
      ],
      "metadata": {
        "id": "PmWnK7xP-AdC"
      }
    },
    {
      "cell_type": "code",
      "source": [
        "# Without Tuning\n",
        "\n",
        "logreg = LogisticRegression(random_state=42)\n",
        "logreg.fit(X_train_final, y_train_trimmed)\n",
        "\n",
        "y_pred_train_logreg = logreg.predict(X_train_final)\n",
        "y_pred_test_logreg = logreg.predict(X_test_final)\n",
        "\n",
        "print('Train:\\n')\n",
        "print(classification_report(y_train_trimmed, y_pred_train_logreg))\n",
        "print(confusion_matrix(y_train_trimmed, y_pred_train_logreg))\n",
        "print('\\nTest:\\n')\n",
        "print(classification_report(y_test, y_pred_test_logreg))\n",
        "print(confusion_matrix(y_test, y_pred_test_logreg))"
      ],
      "metadata": {
        "colab": {
          "base_uri": "https://localhost:8080/"
        },
        "id": "hY-S-KiK_f4I",
        "outputId": "f0e69b3b-8314-4a23-9410-d7a2197b7b57"
      },
      "execution_count": 50,
      "outputs": [
        {
          "output_type": "stream",
          "name": "stdout",
          "text": [
            "Train:\n",
            "\n",
            "              precision    recall  f1-score   support\n",
            "\n",
            "           0       0.94      1.00      0.97     11075\n",
            "           1       1.00      0.01      0.02       672\n",
            "\n",
            "    accuracy                           0.94     11747\n",
            "   macro avg       0.97      0.50      0.49     11747\n",
            "weighted avg       0.95      0.94      0.92     11747\n",
            "\n",
            "[[11075     0]\n",
            " [  666     6]]\n",
            "\n",
            "Test:\n",
            "\n",
            "              precision    recall  f1-score   support\n",
            "\n",
            "           0       0.94      1.00      0.97      2894\n",
            "           1       0.00      0.00      0.00       184\n",
            "\n",
            "    accuracy                           0.94      3078\n",
            "   macro avg       0.47      0.50      0.48      3078\n",
            "weighted avg       0.88      0.94      0.91      3078\n",
            "\n",
            "[[2894    0]\n",
            " [ 184    0]]\n"
          ]
        }
      ]
    },
    {
      "cell_type": "code",
      "source": [
        "# Logreg Tunning\n",
        "\n",
        "log_reg_params = {\n",
        "    'penalty':['l1','l2'],\n",
        "    'C': [0.001, 0.01, 0.1, 1, 10, 100, 1000],\n",
        "    'solver': ['liblinear', 'newton-cg', 'lbfgs'],\n",
        "    'class_weight':['balanced']\n",
        "}\n",
        "\n",
        "grid_log_reg = GridSearchCV(LogisticRegression(), log_reg_params, cv=5, verbose=1, n_jobs=-1)\n",
        "grid_log_reg.fit(X_train_final, y_train_trimmed)"
      ],
      "metadata": {
        "colab": {
          "base_uri": "https://localhost:8080/"
        },
        "id": "Mu_s8CWzBDRU",
        "outputId": "6772dbb0-d7c0-4d7a-9d16-eeb19aeddf47"
      },
      "execution_count": 51,
      "outputs": [
        {
          "output_type": "stream",
          "name": "stdout",
          "text": [
            "Fitting 5 folds for each of 42 candidates, totalling 210 fits\n"
          ]
        },
        {
          "output_type": "execute_result",
          "data": {
            "text/plain": [
              "GridSearchCV(cv=5, estimator=LogisticRegression(), n_jobs=-1,\n",
              "             param_grid={'C': [0.001, 0.01, 0.1, 1, 10, 100, 1000],\n",
              "                         'class_weight': ['balanced'], 'penalty': ['l1', 'l2'],\n",
              "                         'solver': ['liblinear', 'newton-cg', 'lbfgs']},\n",
              "             verbose=1)"
            ]
          },
          "metadata": {},
          "execution_count": 51
        }
      ]
    },
    {
      "cell_type": "code",
      "source": [
        "grid_log_reg_best = grid_log_reg.best_estimator_\n",
        "grid_log_reg_best"
      ],
      "metadata": {
        "colab": {
          "base_uri": "https://localhost:8080/"
        },
        "id": "g2CkLShPBwZd",
        "outputId": "7bf395b1-c606-4bc2-857d-bbf93c6f1c24"
      },
      "execution_count": 52,
      "outputs": [
        {
          "output_type": "execute_result",
          "data": {
            "text/plain": [
              "LogisticRegression(C=0.001, class_weight='balanced', penalty='l1',\n",
              "                   solver='liblinear')"
            ]
          },
          "metadata": {},
          "execution_count": 52
        }
      ]
    },
    {
      "cell_type": "code",
      "source": [
        "y_train_pred_grid_log_reg = grid_log_reg_best.predict(X_train_final)\n",
        "y_test_pred_grid_log_reg = grid_log_reg_best.predict(X_test_final)\n",
        "\n",
        "print(f\"{'-'*21}TRAIN{'-'*21}\")\n",
        "print(classification_report(y_train_trimmed, y_train_pred_grid_log_reg))\n",
        "print(confusion_matrix(y_train_trimmed, y_train_pred_grid_log_reg))\n",
        "print(f\"{'-'*21}TEST{'-'*21}\")\n",
        "print(classification_report(y_test, y_test_pred_grid_log_reg))\n",
        "print(confusion_matrix(y_test, y_test_pred_grid_log_reg))"
      ],
      "metadata": {
        "colab": {
          "base_uri": "https://localhost:8080/"
        },
        "id": "robO3byXCSLb",
        "outputId": "73915c76-1990-4451-b021-1c7c36fc692d"
      },
      "execution_count": 53,
      "outputs": [
        {
          "output_type": "stream",
          "name": "stdout",
          "text": [
            "---------------------TRAIN---------------------\n",
            "              precision    recall  f1-score   support\n",
            "\n",
            "           0       0.94      1.00      0.97     11075\n",
            "           1       0.00      0.00      0.00       672\n",
            "\n",
            "    accuracy                           0.94     11747\n",
            "   macro avg       0.47      0.50      0.49     11747\n",
            "weighted avg       0.89      0.94      0.92     11747\n",
            "\n",
            "[[11075     0]\n",
            " [  672     0]]\n",
            "---------------------TEST---------------------\n",
            "              precision    recall  f1-score   support\n",
            "\n",
            "           0       0.94      1.00      0.97      2894\n",
            "           1       0.00      0.00      0.00       184\n",
            "\n",
            "    accuracy                           0.94      3078\n",
            "   macro avg       0.47      0.50      0.48      3078\n",
            "weighted avg       0.88      0.94      0.91      3078\n",
            "\n",
            "[[2894    0]\n",
            " [ 184    0]]\n"
          ]
        }
      ]
    },
    {
      "cell_type": "markdown",
      "source": [
        "## Decision Tree Classifier"
      ],
      "metadata": {
        "id": "mMToURxeFOs7"
      }
    },
    {
      "cell_type": "code",
      "source": [
        "# No Tunning\n",
        "tree_clf = DecisionTreeClassifier(random_state=42)\n",
        "tree_clf.fit(X_train_final, y_train_trimmed)"
      ],
      "metadata": {
        "colab": {
          "base_uri": "https://localhost:8080/"
        },
        "id": "0JICAgNGZDPo",
        "outputId": "b46b2930-d3f3-4385-ab61-b176bfa3d4cd"
      },
      "execution_count": 54,
      "outputs": [
        {
          "output_type": "execute_result",
          "data": {
            "text/plain": [
              "DecisionTreeClassifier(random_state=42)"
            ]
          },
          "metadata": {},
          "execution_count": 54
        }
      ]
    },
    {
      "cell_type": "code",
      "source": [
        "y_pred_train_tree_clf = tree_clf.predict(X_train_final)\n",
        "y_pred_test_tree_clf = tree_clf.predict(X_test_final)\n",
        "\n",
        "print('-'*28 + 'TRAIN' + '-'*28)\n",
        "print(classification_report(y_train_trimmed, y_pred_train_tree_clf))\n",
        "print(confusion_matrix(y_train_trimmed, y_pred_train_tree_clf))\n",
        "print('-'*28 + 'TRAIN' + '-'*28)\n",
        "print(classification_report(y_test, y_pred_test_tree_clf))\n",
        "print(confusion_matrix(y_test, y_pred_test_tree_clf))"
      ],
      "metadata": {
        "colab": {
          "base_uri": "https://localhost:8080/"
        },
        "id": "9LhlVGtqau4F",
        "outputId": "54228384-39cb-458d-b921-9d2e1e427aea"
      },
      "execution_count": 55,
      "outputs": [
        {
          "output_type": "stream",
          "name": "stdout",
          "text": [
            "----------------------------TRAIN----------------------------\n",
            "              precision    recall  f1-score   support\n",
            "\n",
            "           0       0.99      1.00      1.00     11075\n",
            "           1       1.00      0.92      0.96       672\n",
            "\n",
            "    accuracy                           1.00     11747\n",
            "   macro avg       1.00      0.96      0.98     11747\n",
            "weighted avg       1.00      1.00      1.00     11747\n",
            "\n",
            "[[11075     0]\n",
            " [   57   615]]\n",
            "----------------------------TRAIN----------------------------\n",
            "              precision    recall  f1-score   support\n",
            "\n",
            "           0       0.95      0.94      0.94      2894\n",
            "           1       0.15      0.17      0.16       184\n",
            "\n",
            "    accuracy                           0.89      3078\n",
            "   macro avg       0.55      0.55      0.55      3078\n",
            "weighted avg       0.90      0.89      0.89      3078\n",
            "\n",
            "[[2712  182]\n",
            " [ 153   31]]\n"
          ]
        }
      ]
    },
    {
      "cell_type": "code",
      "source": [
        "# Tuning\n",
        "params_tree_clf = {\n",
        "    'criterion': ['gini', 'entropy'],\n",
        "    'max_depth': np.arange(2,10),\n",
        "    'min_samples_split': np.arange(2,10),\n",
        "    'min_samples_leaf': np.arange(2,10)\n",
        "}\n",
        "\n",
        "tree_clf_grid = GridSearchCV(DecisionTreeClassifier(), params_tree_clf,\n",
        "                             n_jobs=-1, verbose=1, cv=5)\n",
        "tree_clf_grid.fit(X_train_final, y_train_trimmed)"
      ],
      "metadata": {
        "colab": {
          "base_uri": "https://localhost:8080/"
        },
        "id": "oNSART6dbZHv",
        "outputId": "d8f79b32-dddf-4306-f352-de4b2cbbdd39"
      },
      "execution_count": 56,
      "outputs": [
        {
          "output_type": "stream",
          "name": "stdout",
          "text": [
            "Fitting 5 folds for each of 1024 candidates, totalling 5120 fits\n"
          ]
        },
        {
          "output_type": "execute_result",
          "data": {
            "text/plain": [
              "GridSearchCV(cv=5, estimator=DecisionTreeClassifier(), n_jobs=-1,\n",
              "             param_grid={'criterion': ['gini', 'entropy'],\n",
              "                         'max_depth': array([2, 3, 4, 5, 6, 7, 8, 9]),\n",
              "                         'min_samples_leaf': array([2, 3, 4, 5, 6, 7, 8, 9]),\n",
              "                         'min_samples_split': array([2, 3, 4, 5, 6, 7, 8, 9])},\n",
              "             verbose=1)"
            ]
          },
          "metadata": {},
          "execution_count": 56
        }
      ]
    },
    {
      "cell_type": "code",
      "source": [
        "tree_clf_grid_best = tree_clf_grid.best_estimator_\n",
        "tree_clf_grid_best"
      ],
      "metadata": {
        "colab": {
          "base_uri": "https://localhost:8080/"
        },
        "id": "0UEOLf3ScFGa",
        "outputId": "db1bd785-6560-4371-f2e3-bd3c99b114c9"
      },
      "execution_count": 57,
      "outputs": [
        {
          "output_type": "execute_result",
          "data": {
            "text/plain": [
              "DecisionTreeClassifier(max_depth=2, min_samples_leaf=2)"
            ]
          },
          "metadata": {},
          "execution_count": 57
        }
      ]
    },
    {
      "cell_type": "code",
      "source": [
        "y_pred_train_tree_clf_grid = tree_clf_grid_best.predict(X_train_final)\n",
        "y_pred_test_tree_clf_grid = tree_clf_grid_best.predict(X_test_final)\n",
        "\n",
        "print('-'*28 + \"TRAIN\" + '-'*28)\n",
        "print(classification_report(y_train_trimmed, y_pred_train_tree_clf_grid))\n",
        "print(confusion_matrix(y_train_trimmed, y_pred_train_tree_clf_grid))\n",
        "print('-'*28 + \"TEST\" + '-'*28)\n",
        "print(classification_report(y_test, y_pred_test_tree_clf_grid))\n",
        "print(confusion_matrix(y_test, y_pred_test_tree_clf_grid))"
      ],
      "metadata": {
        "colab": {
          "base_uri": "https://localhost:8080/"
        },
        "id": "ILyftcKOcSqR",
        "outputId": "f2d58632-fa95-4cb7-da8f-f75746c6994e"
      },
      "execution_count": 58,
      "outputs": [
        {
          "output_type": "stream",
          "name": "stdout",
          "text": [
            "----------------------------TRAIN----------------------------\n",
            "              precision    recall  f1-score   support\n",
            "\n",
            "           0       0.94      1.00      0.97     11075\n",
            "           1       0.00      0.00      0.00       672\n",
            "\n",
            "    accuracy                           0.94     11747\n",
            "   macro avg       0.47      0.50      0.49     11747\n",
            "weighted avg       0.89      0.94      0.92     11747\n",
            "\n",
            "[[11075     0]\n",
            " [  672     0]]\n",
            "----------------------------TEST----------------------------\n",
            "              precision    recall  f1-score   support\n",
            "\n",
            "           0       0.94      1.00      0.97      2894\n",
            "           1       0.00      0.00      0.00       184\n",
            "\n",
            "    accuracy                           0.94      3078\n",
            "   macro avg       0.47      0.50      0.48      3078\n",
            "weighted avg       0.88      0.94      0.91      3078\n",
            "\n",
            "[[2894    0]\n",
            " [ 184    0]]\n"
          ]
        }
      ]
    },
    {
      "cell_type": "markdown",
      "source": [
        "## KNN"
      ],
      "metadata": {
        "id": "IwjHr22LdYub"
      }
    },
    {
      "cell_type": "code",
      "source": [
        "# No Tunning\n",
        "knn = KNeighborsClassifier()\n",
        "knn.fit(X_train_final, y_train_trimmed)"
      ],
      "metadata": {
        "colab": {
          "base_uri": "https://localhost:8080/"
        },
        "id": "6C42noucdc2E",
        "outputId": "42b86f98-43d2-4a3c-92d3-d9b84aa57e3e"
      },
      "execution_count": 59,
      "outputs": [
        {
          "output_type": "execute_result",
          "data": {
            "text/plain": [
              "KNeighborsClassifier()"
            ]
          },
          "metadata": {},
          "execution_count": 59
        }
      ]
    },
    {
      "cell_type": "code",
      "source": [
        "y_pred_train_knn = knn.predict(X_train_final)\n",
        "y_pred_test_knn = knn.predict(X_test_final)\n",
        "\n",
        "print('-'*28 + 'TRAIN' + '-'*28)\n",
        "print(classification_report(y_train_trimmed, y_pred_train_knn))\n",
        "print(confusion_matrix(y_train_trimmed, y_pred_train_knn))\n",
        "print('-'*28 + 'TEST' + '-'*28)\n",
        "print(classification_report(y_test, y_pred_test_knn))\n",
        "print(confusion_matrix(y_test, y_pred_test_knn))"
      ],
      "metadata": {
        "colab": {
          "base_uri": "https://localhost:8080/"
        },
        "id": "jA3gKX0wdkhM",
        "outputId": "04a7edb7-20d2-4775-a3ce-16ed63df4ea8"
      },
      "execution_count": 60,
      "outputs": [
        {
          "output_type": "stream",
          "name": "stdout",
          "text": [
            "----------------------------TRAIN----------------------------\n",
            "              precision    recall  f1-score   support\n",
            "\n",
            "           0       0.95      1.00      0.97     11075\n",
            "           1       0.59      0.08      0.15       672\n",
            "\n",
            "    accuracy                           0.94     11747\n",
            "   macro avg       0.77      0.54      0.56     11747\n",
            "weighted avg       0.93      0.94      0.92     11747\n",
            "\n",
            "[[11035    40]\n",
            " [  615    57]]\n",
            "----------------------------TEST----------------------------\n",
            "              precision    recall  f1-score   support\n",
            "\n",
            "           0       0.94      0.99      0.97      2894\n",
            "           1       0.17      0.02      0.04       184\n",
            "\n",
            "    accuracy                           0.94      3078\n",
            "   macro avg       0.55      0.51      0.50      3078\n",
            "weighted avg       0.89      0.94      0.91      3078\n",
            "\n",
            "[[2874   20]\n",
            " [ 180    4]]\n"
          ]
        }
      ]
    },
    {
      "cell_type": "code",
      "source": [
        "# Tuning\n",
        "params_knn = {\n",
        "    'n_neighbors': np.arange(2,7),\n",
        "    'weights': ['uniform', 'distance']\n",
        "}\n",
        "\n",
        "knn_grid = GridSearchCV(KNeighborsClassifier(), params_knn, n_jobs=-1,\n",
        "                        cv=5, verbose=2)\n",
        "knn_grid.fit(X_train_final, y_train_trimmed)"
      ],
      "metadata": {
        "colab": {
          "base_uri": "https://localhost:8080/"
        },
        "id": "_QRvjddxeA_e",
        "outputId": "91f30cf2-0268-4eaf-c81f-17158a783ad6"
      },
      "execution_count": 61,
      "outputs": [
        {
          "output_type": "stream",
          "name": "stdout",
          "text": [
            "Fitting 5 folds for each of 10 candidates, totalling 50 fits\n"
          ]
        },
        {
          "output_type": "execute_result",
          "data": {
            "text/plain": [
              "GridSearchCV(cv=5, estimator=KNeighborsClassifier(), n_jobs=-1,\n",
              "             param_grid={'n_neighbors': array([2, 3, 4, 5, 6]),\n",
              "                         'weights': ['uniform', 'distance']},\n",
              "             verbose=2)"
            ]
          },
          "metadata": {},
          "execution_count": 61
        }
      ]
    },
    {
      "cell_type": "code",
      "source": [
        "y_pred_train_knn_grid = knn_grid.predict(X_train_final)\n",
        "y_pred_test_knn_grid = knn_grid.predict(X_test_final)\n",
        "\n",
        "print('-'*28 + 'TRAIN' + '-'*28)\n",
        "print(classification_report(y_train_trimmed, y_pred_train_knn_grid))\n",
        "print(confusion_matrix(y_train_trimmed, y_pred_train_knn_grid))\n",
        "print(f\"TRAIN ACCURACY: {100*round(accuracy_score(y_train_trimmed, y_pred_train_knn_grid),4)}%\")\n",
        "print('-'*28 + 'TEST' + '-'*28)\n",
        "print(classification_report(y_test, y_pred_test_knn_grid))\n",
        "print(confusion_matrix(y_test, y_pred_test_knn_grid))\n",
        "print(f\"TEST ACCURACY: {100*round(accuracy_score(y_test, y_pred_test_knn_grid), 4)}%\")"
      ],
      "metadata": {
        "colab": {
          "base_uri": "https://localhost:8080/"
        },
        "id": "Nw12MZ3feTtc",
        "outputId": "5eb60e1a-cb99-49dc-eb70-14ae74d492b2"
      },
      "execution_count": 62,
      "outputs": [
        {
          "output_type": "stream",
          "name": "stdout",
          "text": [
            "----------------------------TRAIN----------------------------\n",
            "              precision    recall  f1-score   support\n",
            "\n",
            "           0       0.94      1.00      0.97     11075\n",
            "           1       0.76      0.02      0.04       672\n",
            "\n",
            "    accuracy                           0.94     11747\n",
            "   macro avg       0.85      0.51      0.50     11747\n",
            "weighted avg       0.93      0.94      0.92     11747\n",
            "\n",
            "[[11071     4]\n",
            " [  659    13]]\n",
            "TRAIN ACCURACY: 94.36%\n",
            "----------------------------TEST----------------------------\n",
            "              precision    recall  f1-score   support\n",
            "\n",
            "           0       0.94      1.00      0.97      2894\n",
            "           1       0.25      0.01      0.01       184\n",
            "\n",
            "    accuracy                           0.94      3078\n",
            "   macro avg       0.60      0.50      0.49      3078\n",
            "weighted avg       0.90      0.94      0.91      3078\n",
            "\n",
            "[[2891    3]\n",
            " [ 183    1]]\n",
            "TEST ACCURACY: 93.96%\n"
          ]
        }
      ]
    },
    {
      "cell_type": "markdown",
      "source": [
        "## Random Forest"
      ],
      "metadata": {
        "id": "oVXd8ic5fnXd"
      }
    },
    {
      "cell_type": "code",
      "source": [
        "# No Tunning\n",
        "rnf_clf = RandomForestClassifier(random_state=42)\n",
        "rnf_clf.fit(X_train_final, y_train_trimmed)"
      ],
      "metadata": {
        "colab": {
          "base_uri": "https://localhost:8080/"
        },
        "id": "1ZTnmOmCgAR5",
        "outputId": "b2528f64-3d24-4493-9c08-88e2ac173735"
      },
      "execution_count": 63,
      "outputs": [
        {
          "output_type": "execute_result",
          "data": {
            "text/plain": [
              "RandomForestClassifier(random_state=42)"
            ]
          },
          "metadata": {},
          "execution_count": 63
        }
      ]
    },
    {
      "cell_type": "code",
      "source": [
        "y_pred_train_rnf_clf = rnf_clf.predict(X_train_final)\n",
        "y_pred_test_rnf_clf = rnf_clf.predict(X_test_final)\n",
        "\n",
        "print('-'*28 + 'TRAIN' + '-'*28)\n",
        "print(classification_report(y_train_trimmed, y_pred_train_rnf_clf))\n",
        "print(confusion_matrix(y_train_trimmed, y_pred_train_rnf_clf))\n",
        "print(f'TRAIN ACCURACY: {100*round(accuracy_score(y_train_trimmed, y_pred_train_rnf_clf), 4)}')\n",
        "print('-'*28 + 'TEST' + '-'*28)\n",
        "print(classification_report(y_test, y_pred_test_rnf_clf))\n",
        "print(confusion_matrix(y_test, y_pred_test_rnf_clf))\n",
        "print(f'TEST ACCURACY: {100*round(accuracy_score(y_test, y_pred_test_rnf_clf), 4)}')"
      ],
      "metadata": {
        "colab": {
          "base_uri": "https://localhost:8080/"
        },
        "id": "RsY8hGOsgZkS",
        "outputId": "1a69a96d-e103-4e74-c88e-43d2d9cacb5b"
      },
      "execution_count": 64,
      "outputs": [
        {
          "output_type": "stream",
          "name": "stdout",
          "text": [
            "----------------------------TRAIN----------------------------\n",
            "              precision    recall  f1-score   support\n",
            "\n",
            "           0       0.99      1.00      1.00     11075\n",
            "           1       1.00      0.92      0.96       672\n",
            "\n",
            "    accuracy                           1.00     11747\n",
            "   macro avg       1.00      0.96      0.98     11747\n",
            "weighted avg       1.00      1.00      0.99     11747\n",
            "\n",
            "[[11073     2]\n",
            " [   56   616]]\n",
            "TRAIN ACCURACY: 99.51\n",
            "----------------------------TEST----------------------------\n",
            "              precision    recall  f1-score   support\n",
            "\n",
            "           0       0.94      0.99      0.97      2894\n",
            "           1       0.19      0.04      0.06       184\n",
            "\n",
            "    accuracy                           0.93      3078\n",
            "   macro avg       0.57      0.51      0.51      3078\n",
            "weighted avg       0.90      0.93      0.91      3078\n",
            "\n",
            "[[2865   29]\n",
            " [ 177    7]]\n",
            "TEST ACCURACY: 93.31\n"
          ]
        }
      ]
    },
    {
      "cell_type": "code",
      "source": [
        "# Tunning\n",
        "\n",
        "rnf_params = {\n",
        "    'criterion': ['gini', 'entropy'],\n",
        "    'min_samples_split': np.arange(2,9,2),\n",
        "    'max_depth': np.arange(2,5),\n",
        "    'max_features': ['auto', 'sqrt', 'log2']\n",
        "}\n",
        "\n",
        "rnf_clf_grid = GridSearchCV(RandomForestClassifier(), rnf_params, n_jobs=-1,\n",
        "                            verbose=2, cv=5)\n",
        "rnf_clf_grid.fit(X_train_final, y_train_trimmed)"
      ],
      "metadata": {
        "colab": {
          "base_uri": "https://localhost:8080/"
        },
        "id": "TfPh-50ehba2",
        "outputId": "e7908523-1ed0-4362-e36a-a8b1dfbef4bf"
      },
      "execution_count": 65,
      "outputs": [
        {
          "output_type": "stream",
          "name": "stdout",
          "text": [
            "Fitting 5 folds for each of 72 candidates, totalling 360 fits\n"
          ]
        },
        {
          "output_type": "execute_result",
          "data": {
            "text/plain": [
              "GridSearchCV(cv=5, estimator=RandomForestClassifier(), n_jobs=-1,\n",
              "             param_grid={'criterion': ['gini', 'entropy'],\n",
              "                         'max_depth': array([2, 3, 4]),\n",
              "                         'max_features': ['auto', 'sqrt', 'log2'],\n",
              "                         'min_samples_split': array([2, 4, 6, 8])},\n",
              "             verbose=2)"
            ]
          },
          "metadata": {},
          "execution_count": 65
        }
      ]
    },
    {
      "cell_type": "code",
      "source": [
        "y_pred_train_rnf_clf_grid = rnf_clf_grid.predict(X_train_final)\n",
        "y_pred_test_rnf_clf_grid = rnf_clf_grid.predict(X_test_final)\n",
        "\n",
        "print('-'*28 + 'TRAIN' + '-'*28)\n",
        "print(classification_report(y_train_trimmed, y_pred_train_rnf_clf_grid))\n",
        "print(confusion_matrix(y_train_trimmed, y_pred_train_rnf_clf_grid))\n",
        "print(f'TRAIN ACCURACY: {100*round(accuracy_score(y_train_trimmed, y_pred_train_rnf_clf_grid), 4)}')\n",
        "print('-'*28 + 'TEST' + '-'*28)\n",
        "print(classification_report(y_test, y_pred_test_rnf_clf_grid))\n",
        "print(confusion_matrix(y_test, y_pred_test_rnf_clf_grid))\n",
        "print(f'TEST ACCURACY: {100*round(accuracy_score(y_test, y_pred_test_rnf_clf_grid), 4)}')\n"
      ],
      "metadata": {
        "colab": {
          "base_uri": "https://localhost:8080/"
        },
        "id": "m63WeRawirUU",
        "outputId": "eaff6b1f-f5f2-4f8d-efc0-9fe3c7bfd5f5"
      },
      "execution_count": 66,
      "outputs": [
        {
          "output_type": "stream",
          "name": "stdout",
          "text": [
            "----------------------------TRAIN----------------------------\n",
            "              precision    recall  f1-score   support\n",
            "\n",
            "           0       0.94      1.00      0.97     11075\n",
            "           1       0.00      0.00      0.00       672\n",
            "\n",
            "    accuracy                           0.94     11747\n",
            "   macro avg       0.47      0.50      0.49     11747\n",
            "weighted avg       0.89      0.94      0.92     11747\n",
            "\n",
            "[[11075     0]\n",
            " [  672     0]]\n",
            "TRAIN ACCURACY: 94.28\n",
            "----------------------------TEST----------------------------\n",
            "              precision    recall  f1-score   support\n",
            "\n",
            "           0       0.94      1.00      0.97      2894\n",
            "           1       0.00      0.00      0.00       184\n",
            "\n",
            "    accuracy                           0.94      3078\n",
            "   macro avg       0.47      0.50      0.48      3078\n",
            "weighted avg       0.88      0.94      0.91      3078\n",
            "\n",
            "[[2894    0]\n",
            " [ 184    0]]\n",
            "TEST ACCURACY: 94.02000000000001\n"
          ]
        }
      ]
    },
    {
      "cell_type": "code",
      "source": [
        "#plotting confusion matrix\n",
        "plt.figure(figsize=(20,5))\n",
        "plt.subplot(1,2,1)\n",
        "logreg_matrix1= confusion_matrix(y_test, y_pred_test_logreg)\n",
        "ax = sns.heatmap(logreg_matrix1, annot=True, cmap='Blues', fmt='g', annot_kws={\"fontsize\":14})\n",
        "ax.set_xlabel('Predicted labels')\n",
        "ax.set_ylabel('Actual labels')\n",
        "ax.set_xticklabels([\"Negative\", \"Positive\"])\n",
        "ax.set_yticklabels([\"Negative\", \"Positive\"])\n",
        "plt.title(\"Test LogReg\")\n",
        "\n",
        "plt.subplot(1,2,2)\n",
        "logreg_matrix2= confusion_matrix(y_test, y_test_pred_grid_log_reg)\n",
        "ax = sns.heatmap(logreg_matrix2, annot=True, cmap='rocket_r', fmt='g', annot_kws={\"fontsize\":14})\n",
        "ax.set_xlabel('Predicted labels')\n",
        "ax.set_ylabel('Actual labels')\n",
        "ax.set_xticklabels([\"Negative\", \"Positive\"])\n",
        "ax.set_yticklabels([\"Negative\", \"Positive\"])\n",
        "plt.title(\"Test LogReg Tuning\")\n",
        "\n",
        "\n",
        "plt.figure(figsize=(20,5))\n",
        "plt.subplot(1,2,1)\n",
        "tree_clf_matrix1= confusion_matrix(y_test, y_pred_test_tree_clf)\n",
        "ax = sns.heatmap(tree_clf_matrix1, annot=True, cmap='Blues', fmt='g', annot_kws={\"fontsize\":14})\n",
        "ax.set_xlabel('Predicted labels')\n",
        "ax.set_ylabel('Actual labels')\n",
        "ax.set_xticklabels([\"Negative\", \"Positive\"])\n",
        "ax.set_yticklabels([\"Negative\", \"Positive\"])\n",
        "plt.title(\"Test Decision Tree\")\n",
        "\n",
        "plt.subplot(1,2,2)\n",
        "tree_clf_matrix2= confusion_matrix(y_test, y_pred_test_tree_clf_grid)\n",
        "ax = sns.heatmap(tree_clf_matrix2, annot=True, cmap='rocket_r', fmt='g', annot_kws={\"fontsize\":14})\n",
        "ax.set_xlabel('Predicted labels')\n",
        "ax.set_ylabel('Actual labels')\n",
        "ax.set_xticklabels([\"Negative\", \"Positive\"])\n",
        "ax.set_yticklabels([\"Negative\", \"Positive\"])\n",
        "plt.title(\"Test Decision Tree Tuning\")\n",
        "\n",
        "plt.figure(figsize=(20,5))\n",
        "plt.subplot(1,2,1)\n",
        "neigh_matrix1= confusion_matrix(y_test, y_pred_test_knn)\n",
        "ax = sns.heatmap(neigh_matrix1, annot=True, cmap='Blues', fmt='g', annot_kws={\"fontsize\":14})\n",
        "ax.set_xlabel('Predicted labels')\n",
        "ax.set_ylabel('Actual labels')\n",
        "ax.set_xticklabels([\"Negative\", \"Positive\"])\n",
        "ax.set_yticklabels([\"Negative\", \"Positive\"])\n",
        "plt.title(\"Test KNN\")\n",
        "\n",
        "plt.subplot(1,2,2)\n",
        "neigh_matrix2= confusion_matrix(y_test, y_pred_test_knn_grid)\n",
        "ax = sns.heatmap(neigh_matrix2, annot=True, cmap='rocket_r', fmt='g', annot_kws={\"fontsize\":14})\n",
        "ax.set_xlabel('Predicted labels')\n",
        "ax.set_ylabel('Actual labels')\n",
        "ax.set_xticklabels([\"Negative\", \"Positive\"])\n",
        "ax.set_yticklabels([\"Negative\", \"Positive\"])\n",
        "plt.title(\"Test KNN Tuning\")\n",
        "\n",
        "plt.figure(figsize=(20,5))\n",
        "plt.subplot(1,2,1)\n",
        "for_clf_matrix1= confusion_matrix(y_test, y_pred_test_rnf_clf)\n",
        "ax = sns.heatmap(for_clf_matrix1, annot=True, cmap='Blues', fmt='g', annot_kws={\"fontsize\":14})\n",
        "ax.set_xlabel('Predicted labels')\n",
        "ax.set_ylabel('Actual labels')\n",
        "ax.set_xticklabels([\"Negative\", \"Positive\"])\n",
        "ax.set_yticklabels([\"Negative\", \"Positive\"])\n",
        "plt.title(\"Test Random Forest\")\n",
        "\n",
        "plt.subplot(1,2,2)\n",
        "for_clf_matrix2= confusion_matrix(y_test, y_pred_test_rnf_clf_grid)\n",
        "ax = sns.heatmap(for_clf_matrix2, annot=True, cmap='rocket_r', fmt='g', annot_kws={\"fontsize\":14})\n",
        "ax.set_xlabel('Predicted labels')\n",
        "ax.set_ylabel('Actual labels')\n",
        "ax.set_xticklabels([\"Negative\", \"Positive\"])\n",
        "ax.set_yticklabels([\"Negative\", \"Positive\"])\n",
        "plt.title(\"Test Random Forest Tuning\")"
      ],
      "metadata": {
        "colab": {
          "base_uri": "https://localhost:8080/",
          "height": 1000
        },
        "id": "ERfwcP11kSQM",
        "outputId": "0880347e-3f2b-4881-8956-65d133d7cbb0"
      },
      "execution_count": 67,
      "outputs": [
        {
          "output_type": "execute_result",
          "data": {
            "text/plain": [
              "Text(0.5, 1.0, 'Test Random Forest Tuning')"
            ]
          },
          "metadata": {},
          "execution_count": 67
        },
        {
          "output_type": "display_data",
          "data": {
            "text/plain": [
              "<Figure size 1440x360 with 4 Axes>"
            ],
            "image/png": "[encoded data removed]"
          },
          "metadata": {
            "needs_background": "light"
          }
        },
        {
          "output_type": "display_data",
          "data": {
            "text/plain": [
              "<Figure size 1440x360 with 4 Axes>"
            ],
            "image/png": "[encoded data removed]"
          },
          "metadata": {
            "needs_background": "light"
          }
        },
        {
          "output_type": "display_data",
          "data": {
            "text/plain": [
              "<Figure size 1440x360 with 4 Axes>"
            ],
            "image/png": "[encoded data removed]"
          },
          "metadata": {
            "needs_background": "light"
          }
        },
        {
          "output_type": "display_data",
          "data": {
            "text/plain": [
              "<Figure size 1440x360 with 4 Axes>"
            ],
            "image/png": "[encoded data removed]"
          },
          "metadata": {
            "needs_background": "light"
          }
        }
      ]
    },
    {
      "cell_type": "markdown",
      "source": [
        "- Each model have almost the same performance and same biases due to imbalanced target class.\n",
        "\n",
        "- Let's see if oversampling is going to make our model performance better."
      ],
      "metadata": {
        "id": "v6dONjjcyVIk"
      }
    },
    {
      "cell_type": "markdown",
      "source": [
        "## Oversampling"
      ],
      "metadata": {
        "id": "YoB6y2SM0EV2"
      }
    },
    {
      "cell_type": "code",
      "source": [
        "oversampler = SMOTE(random_state=42, n_jobs=-1)\n",
        "X_train_final_smote, y_train_trimmed_smote = oversampler.fit_resample(X_train_final, y_train_trimmed)"
      ],
      "metadata": {
        "id": "CsLOPs670rMT"
      },
      "execution_count": 68,
      "outputs": []
    },
    {
      "cell_type": "code",
      "source": [
        "MODELS = [LogisticRegression(), DecisionTreeClassifier(),\n",
        "          KNeighborsClassifier(), RandomForestClassifier()]\n",
        "\n",
        "for model in MODELS:\n",
        "  clf = model.fit(X_train_final_smote, y_train_trimmed_smote)\n",
        "  y_pred = clf.predict(X_test_final)\n",
        "\n",
        "  print(f\"Model: {str(clf.__class__).split('.')[-1]}:\\n\")\n",
        "  print(classification_report(y_test, y_pred))\n",
        "  print(confusion_matrix(y_test, y_pred))\n",
        "  print(f\"Test Accuracy: {100*round(accuracy_score(y_test, y_pred),2)}%\")  "
      ],
      "metadata": {
        "colab": {
          "base_uri": "https://localhost:8080/"
        },
        "id": "WYf5o0gP6WDv",
        "outputId": "6a062598-0c45-46cb-c23e-f1c9d3d70970"
      },
      "execution_count": 71,
      "outputs": [
        {
          "output_type": "stream",
          "name": "stdout",
          "text": [
            "Model: LogisticRegression'>:\n",
            "\n",
            "              precision    recall  f1-score   support\n",
            "\n",
            "           0       0.99      0.62      0.77      2894\n",
            "           1       0.13      0.91      0.23       184\n",
            "\n",
            "    accuracy                           0.64      3078\n",
            "   macro avg       0.56      0.77      0.50      3078\n",
            "weighted avg       0.94      0.64      0.73      3078\n",
            "\n",
            "[[1806 1088]\n",
            " [  17  167]]\n",
            "Test Accuracy: 64.0%\n",
            "Model: DecisionTreeClassifier'>:\n",
            "\n",
            "              precision    recall  f1-score   support\n",
            "\n",
            "           0       0.95      0.94      0.94      2894\n",
            "           1       0.17      0.21      0.19       184\n",
            "\n",
            "    accuracy                           0.89      3078\n",
            "   macro avg       0.56      0.57      0.56      3078\n",
            "weighted avg       0.90      0.89      0.90      3078\n",
            "\n",
            "[[2707  187]\n",
            " [ 146   38]]\n",
            "Test Accuracy: 89.0%\n",
            "Model: KNeighborsClassifier'>:\n",
            "\n",
            "              precision    recall  f1-score   support\n",
            "\n",
            "           0       0.96      0.80      0.87      2894\n",
            "           1       0.13      0.48      0.20       184\n",
            "\n",
            "    accuracy                           0.78      3078\n",
            "   macro avg       0.54      0.64      0.54      3078\n",
            "weighted avg       0.91      0.78      0.83      3078\n",
            "\n",
            "[[2302  592]\n",
            " [  96   88]]\n",
            "Test Accuracy: 78.0%\n",
            "Model: RandomForestClassifier'>:\n",
            "\n",
            "              precision    recall  f1-score   support\n",
            "\n",
            "           0       0.94      0.98      0.96      2894\n",
            "           1       0.14      0.06      0.08       184\n",
            "\n",
            "    accuracy                           0.92      3078\n",
            "   macro avg       0.54      0.52      0.52      3078\n",
            "weighted avg       0.89      0.92      0.91      3078\n",
            "\n",
            "[[2828   66]\n",
            " [ 173   11]]\n",
            "Test Accuracy: 92.0%\n"
          ]
        }
      ]
    },
    {
      "cell_type": "markdown",
      "source": [
        "- With oversampling(`SMOTE`) technique, we can clear model from biased classification, however the performance is too poor. The Precision score for `Fraud` cases is very low (lower than 14%). And  the Model is perform better without oversampling techinique .\n",
        "\n",
        "- That's mean using Machine Learning model to predict Fraud on Car Insurance is not possible due to poor performance.\n",
        "\n",
        "- If we can get the new data with more balanced target classes, there is probably a chance that we can predict Fraud with Machine Learning.\n",
        "\n",
        "- And the best performance of all models above is Decision Tree Classifier with precision score of 94% `Not Fraud`, 19% `Fraud` and 93.31% Accuracy Score."
      ],
      "metadata": {
        "id": "dSPl27q53iFK"
      }
    },
    {
      "cell_type": "markdown",
      "source": [
        "# Pipeline"
      ],
      "metadata": {
        "id": "YsJ7hkzP6a2z"
      }
    },
    {
      "cell_type": "code",
      "source": [
        "num_pipeline = make_pipeline(StandardScaler())\n",
        "cat_pipeline = make_pipeline(OneHotEncoder())\n",
        "\n",
        "data_pipeline = ColumnTransformer([\n",
        "    ('pipe_num', num_pipeline, num_columns),\n",
        "    ('pipe_cat', cat_pipeline, cat_columns)\n",
        "])\n",
        "\n",
        "pipe_rnf_clf = make_pipeline(data_pipeline, rnf_clf)"
      ],
      "metadata": {
        "id": "mNJKHDng6rWi"
      },
      "execution_count": 83,
      "outputs": []
    },
    {
      "cell_type": "code",
      "source": [
        "pipe_rnf_clf.fit(X_train_trimmed, y_train_trimmed)\n",
        "\n",
        "y_pred_test_pipe_rnf_clf = pipe_rnf_clf.predict(X_test)\n",
        "\n",
        "print('-'*28 + 'TEST' + '-'*28)\n",
        "print(classification_report(y_test, y_pred_test_pipe_rnf_clf))\n",
        "print(confusion_matrix(y_test, y_pred_test_pipe_rnf_clf))\n",
        "print(f'TEST ACCURACY: {100*round(accuracy_score(y_test, y_pred_test_pipe_rnf_clf),4)}%')"
      ],
      "metadata": {
        "colab": {
          "base_uri": "https://localhost:8080/"
        },
        "id": "TnPjw2lg6tgQ",
        "outputId": "dc05ac2b-6548-4d78-fe6c-50ca63964971"
      },
      "execution_count": 87,
      "outputs": [
        {
          "output_type": "stream",
          "name": "stdout",
          "text": [
            "----------------------------TEST----------------------------\n",
            "              precision    recall  f1-score   support\n",
            "\n",
            "           0       0.94      0.99      0.97      2894\n",
            "           1       0.19      0.04      0.06       184\n",
            "\n",
            "    accuracy                           0.93      3078\n",
            "   macro avg       0.57      0.51      0.51      3078\n",
            "weighted avg       0.90      0.93      0.91      3078\n",
            "\n",
            "[[2865   29]\n",
            " [ 177    7]]\n",
            "TEST ACCURACY: 93.31%\n"
          ]
        }
      ]
    },
    {
      "cell_type": "code",
      "source": [
        "# Model Saving\n",
        "with open('rnf_pipe.pkl', 'wb') as f:\n",
        "  pickle.dump(pipe_rnf_clf, f)"
      ],
      "metadata": {
        "id": "WfF_m9mk-Pal"
      },
      "execution_count": 88,
      "outputs": []
    },
    {
      "cell_type": "markdown",
      "source": [
        "## Model Inference"
      ],
      "metadata": {
        "id": "Np1v9bdp_e6H"
      }
    },
    {
      "cell_type": "code",
      "source": [
        "df_inf.isna().sum()"
      ],
      "metadata": {
        "colab": {
          "base_uri": "https://localhost:8080/"
        },
        "id": "fRDe7rop_gqI",
        "outputId": "05921446-7353-465c-f38d-9f3184b48a85"
      },
      "execution_count": 89,
      "outputs": [
        {
          "output_type": "execute_result",
          "data": {
            "text/plain": [
              "Month                   0\n",
              "WeekOfMonth             0\n",
              "DayOfWeek               0\n",
              "Make                    0\n",
              "AccidentArea            0\n",
              "DayOfWeekClaimed        0\n",
              "MonthClaimed            0\n",
              "WeekOfMonthClaimed      0\n",
              "Sex                     0\n",
              "MaritalStatus           0\n",
              "Age                     0\n",
              "Fault                   0\n",
              "PolicyType              0\n",
              "VehicleCategory         0\n",
              "VehiclePrice            0\n",
              "FraudFound_P            0\n",
              "PolicyNumber            0\n",
              "RepNumber               0\n",
              "Deductible              0\n",
              "DriverRating            0\n",
              "Days_Policy_Accident    0\n",
              "Days_Policy_Claim       0\n",
              "PastNumberOfClaims      0\n",
              "AgeOfVehicle            0\n",
              "AgeOfPolicyHolder       0\n",
              "PoliceReportFiled       0\n",
              "WitnessPresent          0\n",
              "AgentType               0\n",
              "NumberOfSuppliments     0\n",
              "AddressChange_Claim     0\n",
              "NumberOfCars            0\n",
              "Year                    0\n",
              "BasePolicy              0\n",
              "dtype: int64"
            ]
          },
          "metadata": {},
          "execution_count": 89
        }
      ]
    },
    {
      "cell_type": "code",
      "source": [
        "print(os.listdir())\n",
        "PICKLE_MODEL = 'rnf_pipe.pkl'\n",
        "\n",
        "with open(PICKLE_MODEL, 'rb') as f:\n",
        "  model_pipeline = pickle.load(f)"
      ],
      "metadata": {
        "colab": {
          "base_uri": "https://localhost:8080/"
        },
        "id": "jEKtSo_-_h2t",
        "outputId": "84f3ab70-4081-4c4e-96e2-2dcb51a03aaa"
      },
      "execution_count": 92,
      "outputs": [
        {
          "output_type": "stream",
          "name": "stdout",
          "text": [
            "['.config', 'rnf_pipe.pkl', 'vehicle-claim-fraud-detection', 'sample_data']\n"
          ]
        }
      ]
    },
    {
      "cell_type": "code",
      "source": [
        "y_pred_inf = model_pipeline.predict(df_inf)\n",
        "y_pred_inf = pd.DataFrame(y_pred_inf, columns=['Predicted_FraudFound_P'])"
      ],
      "metadata": {
        "id": "VcPa1GFlAC--"
      },
      "execution_count": 97,
      "outputs": []
    },
    {
      "cell_type": "code",
      "source": [
        "# Concatenate with Original Dataframe\n",
        "df_inf_result = pd.concat([df_inf, y_pred_inf], axis=1)"
      ],
      "metadata": {
        "id": "ZC4XnJ9oAZuC"
      },
      "execution_count": 98,
      "outputs": []
    },
    {
      "cell_type": "code",
      "source": [
        "df_inf_result.loc[:, ['AccidentArea', 'DriverRating', 'FraudFound_P', 'Predicted_FraudFound_P']]"
      ],
      "metadata": {
        "colab": {
          "base_uri": "https://localhost:8080/",
          "height": 990
        },
        "id": "kWh4A9zxAh1P",
        "outputId": "81a36d83-3006-4c77-d49f-a23bdc171857"
      },
      "execution_count": 99,
      "outputs": [
        {
          "output_type": "execute_result",
          "data": {
            "text/plain": [
              "   AccidentArea  DriverRating  FraudFound_P  Predicted_FraudFound_P\n",
              "0         Urban             1             0                       0\n",
              "1         Urban             2             0                       0\n",
              "2         Urban             3             0                       0\n",
              "3         Urban             4             0                       0\n",
              "4         Urban             1             0                       0\n",
              "5         Urban             4             0                       0\n",
              "6         Urban             3             0                       0\n",
              "7         Urban             2             0                       0\n",
              "8         Urban             4             0                       0\n",
              "9         Urban             4             0                       0\n",
              "10        Urban             2             1                       0\n",
              "11        Urban             3             0                       0\n",
              "12        Urban             1             0                       0\n",
              "13        Urban             1             0                       0\n",
              "14        Urban             1             0                       0\n",
              "15        Urban             2             0                       0\n",
              "16        Urban             3             0                       0\n",
              "17        Urban             1             0                       0\n",
              "18        Urban             1             0                       0\n",
              "19        Urban             4             0                       0\n",
              "20        Urban             3             0                       0\n",
              "21        Urban             3             0                       0\n",
              "22        Urban             2             0                       0\n",
              "23        Urban             4             0                       0\n",
              "24        Urban             2             0                       0\n",
              "25        Urban             1             0                       0\n",
              "26        Urban             3             0                       0\n",
              "27        Urban             3             0                       0\n",
              "28        Urban             3             0                       0\n",
              "29        Urban             3             0                       0"
            ],
            "text/html": [
              "\n",
              "  <div id=\"df-18e00bcd-d7c5-42e4-a858-de693f1f06e4\">\n",
              "    <div class=\"colab-df-container\">\n",
              "      <div>\n",
              "<style scoped>\n",
              "    .dataframe tbody tr th:only-of-type {\n",
              "        vertical-align: middle;\n",
              "    }\n",
              "\n",
              "    .dataframe tbody tr th {\n",
              "        vertical-align: top;\n",
              "    }\n",
              "\n",
              "    .dataframe thead th {\n",
              "        text-align: right;\n",
              "    }\n",
              "</style>\n",
              "<table border=\"1\" class=\"dataframe\">\n",
              "  <thead>\n",
              "    <tr style=\"text-align: right;\">\n",
              "      <th></th>\n",
              "      <th>AccidentArea</th>\n",
              "      <th>DriverRating</th>\n",
              "      <th>FraudFound_P</th>\n",
              "      <th>Predicted_FraudFound_P</th>\n",
              "    </tr>\n",
              "  </thead>\n",
              "  <tbody>\n",
              "    <tr>\n",
              "      <th>0</th>\n",
              "      <td>Urban</td>\n",
              "      <td>1</td>\n",
              "      <td>0</td>\n",
              "      <td>0</td>\n",
              "    </tr>\n",
              "    <tr>\n",
              "      <th>1</th>\n",
              "      <td>Urban</td>\n",
              "      <td>2</td>\n",
              "      <td>0</td>\n",
              "      <td>0</td>\n",
              "    </tr>\n",
              "    <tr>\n",
              "      <th>2</th>\n",
              "      <td>Urban</td>\n",
              "      <td>3</td>\n",
              "      <td>0</td>\n",
              "      <td>0</td>\n",
              "    </tr>\n",
              "    <tr>\n",
              "      <th>3</th>\n",
              "      <td>Urban</td>\n",
              "      <td>4</td>\n",
              "      <td>0</td>\n",
              "      <td>0</td>\n",
              "    </tr>\n",
              "    <tr>\n",
              "      <th>4</th>\n",
              "      <td>Urban</td>\n",
              "      <td>1</td>\n",
              "      <td>0</td>\n",
              "      <td>0</td>\n",
              "    </tr>\n",
              "    <tr>\n",
              "      <th>5</th>\n",
              "      <td>Urban</td>\n",
              "      <td>4</td>\n",
              "      <td>0</td>\n",
              "      <td>0</td>\n",
              "    </tr>\n",
              "    <tr>\n",
              "      <th>6</th>\n",
              "      <td>Urban</td>\n",
              "      <td>3</td>\n",
              "      <td>0</td>\n",
              "      <td>0</td>\n",
              "    </tr>\n",
              "    <tr>\n",
              "      <th>7</th>\n",
              "      <td>Urban</td>\n",
              "      <td>2</td>\n",
              "      <td>0</td>\n",
              "      <td>0</td>\n",
              "    </tr>\n",
              "    <tr>\n",
              "      <th>8</th>\n",
              "      <td>Urban</td>\n",
              "      <td>4</td>\n",
              "      <td>0</td>\n",
              "      <td>0</td>\n",
              "    </tr>\n",
              "    <tr>\n",
              "      <th>9</th>\n",
              "      <td>Urban</td>\n",
              "      <td>4</td>\n",
              "      <td>0</td>\n",
              "      <td>0</td>\n",
              "    </tr>\n",
              "    <tr>\n",
              "      <th>10</th>\n",
              "      <td>Urban</td>\n",
              "      <td>2</td>\n",
              "      <td>1</td>\n",
              "      <td>0</td>\n",
              "    </tr>\n",
              "    <tr>\n",
              "      <th>11</th>\n",
              "      <td>Urban</td>\n",
              "      <td>3</td>\n",
              "      <td>0</td>\n",
              "      <td>0</td>\n",
              "    </tr>\n",
              "    <tr>\n",
              "      <th>12</th>\n",
              "      <td>Urban</td>\n",
              "      <td>1</td>\n",
              "      <td>0</td>\n",
              "      <td>0</td>\n",
              "    </tr>\n",
              "    <tr>\n",
              "      <th>13</th>\n",
              "      <td>Urban</td>\n",
              "      <td>1</td>\n",
              "      <td>0</td>\n",
              "      <td>0</td>\n",
              "    </tr>\n",
              "    <tr>\n",
              "      <th>14</th>\n",
              "      <td>Urban</td>\n",
              "      <td>1</td>\n",
              "      <td>0</td>\n",
              "      <td>0</td>\n",
              "    </tr>\n",
              "    <tr>\n",
              "      <th>15</th>\n",
              "      <td>Urban</td>\n",
              "      <td>2</td>\n",
              "      <td>0</td>\n",
              "      <td>0</td>\n",
              "    </tr>\n",
              "    <tr>\n",
              "      <th>16</th>\n",
              "      <td>Urban</td>\n",
              "      <td>3</td>\n",
              "      <td>0</td>\n",
              "      <td>0</td>\n",
              "    </tr>\n",
              "    <tr>\n",
              "      <th>17</th>\n",
              "      <td>Urban</td>\n",
              "      <td>1</td>\n",
              "      <td>0</td>\n",
              "      <td>0</td>\n",
              "    </tr>\n",
              "    <tr>\n",
              "      <th>18</th>\n",
              "      <td>Urban</td>\n",
              "      <td>1</td>\n",
              "      <td>0</td>\n",
              "      <td>0</td>\n",
              "    </tr>\n",
              "    <tr>\n",
              "      <th>19</th>\n",
              "      <td>Urban</td>\n",
              "      <td>4</td>\n",
              "      <td>0</td>\n",
              "      <td>0</td>\n",
              "    </tr>\n",
              "    <tr>\n",
              "      <th>20</th>\n",
              "      <td>Urban</td>\n",
              "      <td>3</td>\n",
              "      <td>0</td>\n",
              "      <td>0</td>\n",
              "    </tr>\n",
              "    <tr>\n",
              "      <th>21</th>\n",
              "      <td>Urban</td>\n",
              "      <td>3</td>\n",
              "      <td>0</td>\n",
              "      <td>0</td>\n",
              "    </tr>\n",
              "    <tr>\n",
              "      <th>22</th>\n",
              "      <td>Urban</td>\n",
              "      <td>2</td>\n",
              "      <td>0</td>\n",
              "      <td>0</td>\n",
              "    </tr>\n",
              "    <tr>\n",
              "      <th>23</th>\n",
              "      <td>Urban</td>\n",
              "      <td>4</td>\n",
              "      <td>0</td>\n",
              "      <td>0</td>\n",
              "    </tr>\n",
              "    <tr>\n",
              "      <th>24</th>\n",
              "      <td>Urban</td>\n",
              "      <td>2</td>\n",
              "      <td>0</td>\n",
              "      <td>0</td>\n",
              "    </tr>\n",
              "    <tr>\n",
              "      <th>25</th>\n",
              "      <td>Urban</td>\n",
              "      <td>1</td>\n",
              "      <td>0</td>\n",
              "      <td>0</td>\n",
              "    </tr>\n",
              "    <tr>\n",
              "      <th>26</th>\n",
              "      <td>Urban</td>\n",
              "      <td>3</td>\n",
              "      <td>0</td>\n",
              "      <td>0</td>\n",
              "    </tr>\n",
              "    <tr>\n",
              "      <th>27</th>\n",
              "      <td>Urban</td>\n",
              "      <td>3</td>\n",
              "      <td>0</td>\n",
              "      <td>0</td>\n",
              "    </tr>\n",
              "    <tr>\n",
              "      <th>28</th>\n",
              "      <td>Urban</td>\n",
              "      <td>3</td>\n",
              "      <td>0</td>\n",
              "      <td>0</td>\n",
              "    </tr>\n",
              "    <tr>\n",
              "      <th>29</th>\n",
              "      <td>Urban</td>\n",
              "      <td>3</td>\n",
              "      <td>0</td>\n",
              "      <td>0</td>\n",
              "    </tr>\n",
              "  </tbody>\n",
              "</table>\n",
              "</div>\n",
              "      <button class=\"colab-df-convert\" onclick=\"convertToInteractive('df-18e00bcd-d7c5-42e4-a858-de693f1f06e4')\"\n",
              "              title=\"Convert this dataframe to an interactive table.\"\n",
              "              style=\"display:none;\">\n",
              "        \n",
              "  <svg xmlns=\"http://www.w3.org/2000/svg\" height=\"24px\"viewBox=\"0 0 24 24\"\n",
              "       width=\"24px\">\n",
              "    <path d=\"M0 0h24v24H0V0z\" fill=\"none\"/>\n",
              "    <path d=\"M18.56 5.44l.94 2.06.94-2.06 2.06-.94-2.06-.94-.94-2.06-.94 2.06-2.06.94zm-11 1L8.5 8.5l.94-2.06 2.06-.94-2.06-.94L8.5 2.5l-.94 2.06-2.06.94zm10 10l.94 2.06.94-2.06 2.06-.94-2.06-.94-.94-2.06-.94 2.06-2.06.94z\"/><path d=\"M17.41 7.96l-1.37-1.37c-.4-.4-.92-.59-1.43-.59-.52 0-1.04.2-1.43.59L10.3 9.45l-7.72 7.72c-.78.78-.78 2.05 0 2.83L4 21.41c.39.39.9.59 1.41.59.51 0 1.02-.2 1.41-.59l7.78-7.78 2.81-2.81c.8-.78.8-2.07 0-2.86zM5.41 20L4 18.59l7.72-7.72 1.47 1.35L5.41 20z\"/>\n",
              "  </svg>\n",
              "      </button>\n",
              "      \n",
              "  <style>\n",
              "    .colab-df-container {\n",
              "      display:flex;\n",
              "      flex-wrap:wrap;\n",
              "      gap: 12px;\n",
              "    }\n",
              "\n",
              "    .colab-df-convert {\n",
              "      background-color: #E8F0FE;\n",
              "      border: none;\n",
              "      border-radius: 50%;\n",
              "      cursor: pointer;\n",
              "      display: none;\n",
              "      fill: #1967D2;\n",
              "      height: 32px;\n",
              "      padding: 0 0 0 0;\n",
              "      width: 32px;\n",
              "    }\n",
              "\n",
              "    .colab-df-convert:hover {\n",
              "      background-color: #E2EBFA;\n",
              "      box-shadow: 0px 1px 2px rgba(60, 64, 67, 0.3), 0px 1px 3px 1px rgba(60, 64, 67, 0.15);\n",
              "      fill: #174EA6;\n",
              "    }\n",
              "\n",
              "    [theme=dark] .colab-df-convert {\n",
              "      background-color: #3B4455;\n",
              "      fill: #D2E3FC;\n",
              "    }\n",
              "\n",
              "    [theme=dark] .colab-df-convert:hover {\n",
              "      background-color: #434B5C;\n",
              "      box-shadow: 0px 1px 3px 1px rgba(0, 0, 0, 0.15);\n",
              "      filter: drop-shadow(0px 1px 2px rgba(0, 0, 0, 0.3));\n",
              "      fill: #FFFFFF;\n",
              "    }\n",
              "  </style>\n",
              "\n",
              "      <script>\n",
              "        const buttonEl =\n",
              "          document.querySelector('#df-18e00bcd-d7c5-42e4-a858-de693f1f06e4 button.colab-df-convert');\n",
              "        buttonEl.style.display =\n",
              "          google.colab.kernel.accessAllowed ? 'block' : 'none';\n",
              "\n",
              "        async function convertToInteractive(key) {\n",
              "          const element = document.querySelector('#df-18e00bcd-d7c5-42e4-a858-de693f1f06e4');\n",
              "          const dataTable =\n",
              "            await google.colab.kernel.invokeFunction('convertToInteractive',\n",
              "                                                     [key], {});\n",
              "          if (!dataTable) return;\n",
              "\n",
              "          const docLinkHtml = 'Like what you see? Visit the ' +\n",
              "            '<a target=\"_blank\" href=https://colab.research.google.com/notebooks/data_table.ipynb>data table notebook</a>'\n",
              "            + ' to learn more about interactive tables.';\n",
              "          element.innerHTML = '';\n",
              "          dataTable['output_type'] = 'display_data';\n",
              "          await google.colab.output.renderOutput(dataTable, element);\n",
              "          const docLink = document.createElement('div');\n",
              "          docLink.innerHTML = docLinkHtml;\n",
              "          element.appendChild(docLink);\n",
              "        }\n",
              "      </script>\n",
              "    </div>\n",
              "  </div>\n",
              "  "
            ]
          },
          "metadata": {},
          "execution_count": 99
        }
      ]
    },
    {
      "cell_type": "code",
      "source": [
        "df_inf_result[df_inf_result['FraudFound_P'] != df_inf_result['Predicted_FraudFound_P']][['AccidentArea', 'DriverRating', 'FraudFound_P', 'Predicted_FraudFound_P']]"
      ],
      "metadata": {
        "colab": {
          "base_uri": "https://localhost:8080/",
          "height": 81
        },
        "id": "hP3HOzQzAqpr",
        "outputId": "c0d88c2f-7f0f-4b71-d563-bdbaa010f762"
      },
      "execution_count": 102,
      "outputs": [
        {
          "output_type": "execute_result",
          "data": {
            "text/plain": [
              "   AccidentArea  DriverRating  FraudFound_P  Predicted_FraudFound_P\n",
              "10        Urban             2             1                       0"
            ],
            "text/html": [
              "\n",
              "  <div id=\"df-02067cbf-d44a-4b6b-b8d0-f8ed2169aae1\">\n",
              "    <div class=\"colab-df-container\">\n",
              "      <div>\n",
              "<style scoped>\n",
              "    .dataframe tbody tr th:only-of-type {\n",
              "        vertical-align: middle;\n",
              "    }\n",
              "\n",
              "    .dataframe tbody tr th {\n",
              "        vertical-align: top;\n",
              "    }\n",
              "\n",
              "    .dataframe thead th {\n",
              "        text-align: right;\n",
              "    }\n",
              "</style>\n",
              "<table border=\"1\" class=\"dataframe\">\n",
              "  <thead>\n",
              "    <tr style=\"text-align: right;\">\n",
              "      <th></th>\n",
              "      <th>AccidentArea</th>\n",
              "      <th>DriverRating</th>\n",
              "      <th>FraudFound_P</th>\n",
              "      <th>Predicted_FraudFound_P</th>\n",
              "    </tr>\n",
              "  </thead>\n",
              "  <tbody>\n",
              "    <tr>\n",
              "      <th>10</th>\n",
              "      <td>Urban</td>\n",
              "      <td>2</td>\n",
              "      <td>1</td>\n",
              "      <td>0</td>\n",
              "    </tr>\n",
              "  </tbody>\n",
              "</table>\n",
              "</div>\n",
              "      <button class=\"colab-df-convert\" onclick=\"convertToInteractive('df-02067cbf-d44a-4b6b-b8d0-f8ed2169aae1')\"\n",
              "              title=\"Convert this dataframe to an interactive table.\"\n",
              "              style=\"display:none;\">\n",
              "        \n",
              "  <svg xmlns=\"http://www.w3.org/2000/svg\" height=\"24px\"viewBox=\"0 0 24 24\"\n",
              "       width=\"24px\">\n",
              "    <path d=\"M0 0h24v24H0V0z\" fill=\"none\"/>\n",
              "    <path d=\"M18.56 5.44l.94 2.06.94-2.06 2.06-.94-2.06-.94-.94-2.06-.94 2.06-2.06.94zm-11 1L8.5 8.5l.94-2.06 2.06-.94-2.06-.94L8.5 2.5l-.94 2.06-2.06.94zm10 10l.94 2.06.94-2.06 2.06-.94-2.06-.94-.94-2.06-.94 2.06-2.06.94z\"/><path d=\"M17.41 7.96l-1.37-1.37c-.4-.4-.92-.59-1.43-.59-.52 0-1.04.2-1.43.59L10.3 9.45l-7.72 7.72c-.78.78-.78 2.05 0 2.83L4 21.41c.39.39.9.59 1.41.59.51 0 1.02-.2 1.41-.59l7.78-7.78 2.81-2.81c.8-.78.8-2.07 0-2.86zM5.41 20L4 18.59l7.72-7.72 1.47 1.35L5.41 20z\"/>\n",
              "  </svg>\n",
              "      </button>\n",
              "      \n",
              "  <style>\n",
              "    .colab-df-container {\n",
              "      display:flex;\n",
              "      flex-wrap:wrap;\n",
              "      gap: 12px;\n",
              "    }\n",
              "\n",
              "    .colab-df-convert {\n",
              "      background-color: #E8F0FE;\n",
              "      border: none;\n",
              "      border-radius: 50%;\n",
              "      cursor: pointer;\n",
              "      display: none;\n",
              "      fill: #1967D2;\n",
              "      height: 32px;\n",
              "      padding: 0 0 0 0;\n",
              "      width: 32px;\n",
              "    }\n",
              "\n",
              "    .colab-df-convert:hover {\n",
              "      background-color: #E2EBFA;\n",
              "      box-shadow: 0px 1px 2px rgba(60, 64, 67, 0.3), 0px 1px 3px 1px rgba(60, 64, 67, 0.15);\n",
              "      fill: #174EA6;\n",
              "    }\n",
              "\n",
              "    [theme=dark] .colab-df-convert {\n",
              "      background-color: #3B4455;\n",
              "      fill: #D2E3FC;\n",
              "    }\n",
              "\n",
              "    [theme=dark] .colab-df-convert:hover {\n",
              "      background-color: #434B5C;\n",
              "      box-shadow: 0px 1px 3px 1px rgba(0, 0, 0, 0.15);\n",
              "      filter: drop-shadow(0px 1px 2px rgba(0, 0, 0, 0.3));\n",
              "      fill: #FFFFFF;\n",
              "    }\n",
              "  </style>\n",
              "\n",
              "      <script>\n",
              "        const buttonEl =\n",
              "          document.querySelector('#df-02067cbf-d44a-4b6b-b8d0-f8ed2169aae1 button.colab-df-convert');\n",
              "        buttonEl.style.display =\n",
              "          google.colab.kernel.accessAllowed ? 'block' : 'none';\n",
              "\n",
              "        async function convertToInteractive(key) {\n",
              "          const element = document.querySelector('#df-02067cbf-d44a-4b6b-b8d0-f8ed2169aae1');\n",
              "          const dataTable =\n",
              "            await google.colab.kernel.invokeFunction('convertToInteractive',\n",
              "                                                     [key], {});\n",
              "          if (!dataTable) return;\n",
              "\n",
              "          const docLinkHtml = 'Like what you see? Visit the ' +\n",
              "            '<a target=\"_blank\" href=https://colab.research.google.com/notebooks/data_table.ipynb>data table notebook</a>'\n",
              "            + ' to learn more about interactive tables.';\n",
              "          element.innerHTML = '';\n",
              "          dataTable['output_type'] = 'display_data';\n",
              "          await google.colab.output.renderOutput(dataTable, element);\n",
              "          const docLink = document.createElement('div');\n",
              "          docLink.innerHTML = docLinkHtml;\n",
              "          element.appendChild(docLink);\n",
              "        }\n",
              "      </script>\n",
              "    </div>\n",
              "  </div>\n",
              "  "
            ]
          },
          "metadata": {},
          "execution_count": 102
        }
      ]
    },
    {
      "cell_type": "markdown",
      "source": [
        "- As we can see the model classify every input as `Not Fraud` and fail to classify one `Fraud` case\n",
        "\n",
        "- In Conclusion, using Machine Learning Approach for Fraud Car Insurance detection is not possible with this datasets, and probably because extreamly imbalanced target."
      ],
      "metadata": {
        "id": "WJTnBGx5BZSr"
      }
    },
    {
      "cell_type": "code",
      "source": [
        ""
      ],
      "metadata": {
        "id": "VABp6fS0DAiD"
      },
      "execution_count": null,
      "outputs": []
    }
  ],
  "metadata": {
    "colab": {
      "name": "Fraud Detection Car Insurance.ipynb",
      "provenance": [],
      "collapsed_sections": [],
      "authorship_tag": "ABX9TyPxBpTuZE2dRm3gJ+u3hakJ",
      "include_colab_link": true
    },
    "kernelspec": {
      "display_name": "Python 3",
      "name": "python3"
    },
    "language_info": {
      "name": "python"
    }
  },
  "nbformat": 4,
  "nbformat_minor": 0
}
